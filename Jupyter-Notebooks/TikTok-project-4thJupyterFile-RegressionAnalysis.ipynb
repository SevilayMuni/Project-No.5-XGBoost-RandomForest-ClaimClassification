{
 "cells": [
  {
   "cell_type": "markdown",
   "metadata": {
    "id": "DtNBZFHO3M7n"
   },
   "source": [
    "# XGBoost Predictive Model for TikTok's Claim Classification: EDA, Hypothesis Testing, Logistic Regression, Tree-Based Models\n",
    "\n",
    "###  4th Jupyter Notebook -- Regression Analysis "
   ]
  },
  {
   "cell_type": "code",
   "execution_count": 1,
   "metadata": {
    "id": "tCni9wAGphb0"
   },
   "outputs": [],
   "source": [
    "# Importing packages for data manipulation, preprocessing, modeling\n",
    "import numpy as np \n",
    "import pandas as pd\n",
    "import matplotlib.pyplot as plt\n",
    "import seaborn as sns\n",
    "\n",
    "from sklearn.preprocessing import OneHotEncoder\n",
    "from sklearn.feature_extraction.text import CountVectorizer, TfidfVectorizer\n",
    "from sklearn.utils import resample\n",
    "\n",
    "from sklearn.model_selection import train_test_split\n",
    "from sklearn.linear_model import LogisticRegression\n",
    "import sklearn.metrics as metrics"
   ]
  },
  {
   "cell_type": "code",
   "execution_count": 2,
   "metadata": {
    "id": "C9ODhaOppqlw"
   },
   "outputs": [],
   "source": [
    "data = pd.read_csv(\"tiktok-dataset.csv\")"
   ]
  },
  {
   "cell_type": "markdown",
   "metadata": {
    "id": "FZA0zpCSpYIL"
   },
   "source": [
    "**Note:**\n",
    "\n",
    "The purposes of EDA prior building regression model are:\n",
    "\n",
    "- To identify data anomalies such as outliers and class imbalance that might affect the modeling.\n",
    "\n",
    "- To verify model assumptions such as no severe multicollinearity."
   ]
  },
  {
   "cell_type": "code",
   "execution_count": 3,
   "metadata": {
    "id": "2rfk95MLp4a_"
   },
   "outputs": [
    {
     "data": {
      "text/html": [
       "<div>\n",
       "<style scoped>\n",
       "    .dataframe tbody tr th:only-of-type {\n",
       "        vertical-align: middle;\n",
       "    }\n",
       "\n",
       "    .dataframe tbody tr th {\n",
       "        vertical-align: top;\n",
       "    }\n",
       "\n",
       "    .dataframe thead th {\n",
       "        text-align: right;\n",
       "    }\n",
       "</style>\n",
       "<table border=\"1\" class=\"dataframe\">\n",
       "  <thead>\n",
       "    <tr style=\"text-align: right;\">\n",
       "      <th></th>\n",
       "      <th>#</th>\n",
       "      <th>claim_status</th>\n",
       "      <th>video_id</th>\n",
       "      <th>video_duration_sec</th>\n",
       "      <th>video_transcription_text</th>\n",
       "      <th>verified_status</th>\n",
       "      <th>author_ban_status</th>\n",
       "      <th>video_view_count</th>\n",
       "      <th>video_like_count</th>\n",
       "      <th>video_share_count</th>\n",
       "      <th>video_download_count</th>\n",
       "      <th>video_comment_count</th>\n",
       "    </tr>\n",
       "  </thead>\n",
       "  <tbody>\n",
       "    <tr>\n",
       "      <th>0</th>\n",
       "      <td>1</td>\n",
       "      <td>claim</td>\n",
       "      <td>7017666017</td>\n",
       "      <td>59</td>\n",
       "      <td>someone shared with me that drone deliveries a...</td>\n",
       "      <td>not verified</td>\n",
       "      <td>under review</td>\n",
       "      <td>343296.0</td>\n",
       "      <td>19425.0</td>\n",
       "      <td>241.0</td>\n",
       "      <td>1.0</td>\n",
       "      <td>0.0</td>\n",
       "    </tr>\n",
       "    <tr>\n",
       "      <th>1</th>\n",
       "      <td>2</td>\n",
       "      <td>claim</td>\n",
       "      <td>4014381136</td>\n",
       "      <td>32</td>\n",
       "      <td>someone shared with me that there are more mic...</td>\n",
       "      <td>not verified</td>\n",
       "      <td>active</td>\n",
       "      <td>140877.0</td>\n",
       "      <td>77355.0</td>\n",
       "      <td>19034.0</td>\n",
       "      <td>1161.0</td>\n",
       "      <td>684.0</td>\n",
       "    </tr>\n",
       "    <tr>\n",
       "      <th>2</th>\n",
       "      <td>3</td>\n",
       "      <td>claim</td>\n",
       "      <td>9859838091</td>\n",
       "      <td>31</td>\n",
       "      <td>someone shared with me that american industria...</td>\n",
       "      <td>not verified</td>\n",
       "      <td>active</td>\n",
       "      <td>902185.0</td>\n",
       "      <td>97690.0</td>\n",
       "      <td>2858.0</td>\n",
       "      <td>833.0</td>\n",
       "      <td>329.0</td>\n",
       "    </tr>\n",
       "    <tr>\n",
       "      <th>3</th>\n",
       "      <td>4</td>\n",
       "      <td>claim</td>\n",
       "      <td>1866847991</td>\n",
       "      <td>25</td>\n",
       "      <td>someone shared with me that the metro of st. p...</td>\n",
       "      <td>not verified</td>\n",
       "      <td>active</td>\n",
       "      <td>437506.0</td>\n",
       "      <td>239954.0</td>\n",
       "      <td>34812.0</td>\n",
       "      <td>1234.0</td>\n",
       "      <td>584.0</td>\n",
       "    </tr>\n",
       "    <tr>\n",
       "      <th>4</th>\n",
       "      <td>5</td>\n",
       "      <td>claim</td>\n",
       "      <td>7105231098</td>\n",
       "      <td>19</td>\n",
       "      <td>someone shared with me that the number of busi...</td>\n",
       "      <td>not verified</td>\n",
       "      <td>active</td>\n",
       "      <td>56167.0</td>\n",
       "      <td>34987.0</td>\n",
       "      <td>4110.0</td>\n",
       "      <td>547.0</td>\n",
       "      <td>152.0</td>\n",
       "    </tr>\n",
       "  </tbody>\n",
       "</table>\n",
       "</div>"
      ],
      "text/plain": [
       "   # claim_status    video_id  video_duration_sec  \\\n",
       "0  1        claim  7017666017                  59   \n",
       "1  2        claim  4014381136                  32   \n",
       "2  3        claim  9859838091                  31   \n",
       "3  4        claim  1866847991                  25   \n",
       "4  5        claim  7105231098                  19   \n",
       "\n",
       "                            video_transcription_text verified_status  \\\n",
       "0  someone shared with me that drone deliveries a...    not verified   \n",
       "1  someone shared with me that there are more mic...    not verified   \n",
       "2  someone shared with me that american industria...    not verified   \n",
       "3  someone shared with me that the metro of st. p...    not verified   \n",
       "4  someone shared with me that the number of busi...    not verified   \n",
       "\n",
       "  author_ban_status  video_view_count  video_like_count  video_share_count  \\\n",
       "0      under review          343296.0           19425.0              241.0   \n",
       "1            active          140877.0           77355.0            19034.0   \n",
       "2            active          902185.0           97690.0             2858.0   \n",
       "3            active          437506.0          239954.0            34812.0   \n",
       "4            active           56167.0           34987.0             4110.0   \n",
       "\n",
       "   video_download_count  video_comment_count  \n",
       "0                   1.0                  0.0  \n",
       "1                1161.0                684.0  \n",
       "2                 833.0                329.0  \n",
       "3                1234.0                584.0  \n",
       "4                 547.0                152.0  "
      ]
     },
     "execution_count": 3,
     "metadata": {},
     "output_type": "execute_result"
    }
   ],
   "source": [
    "data.head()"
   ]
  },
  {
   "cell_type": "code",
   "execution_count": 4,
   "metadata": {
    "id": "kYwW-G1WqX3R"
   },
   "outputs": [
    {
     "data": {
      "text/plain": [
       "(19382, 12)"
      ]
     },
     "execution_count": 4,
     "metadata": {},
     "output_type": "execute_result"
    }
   ],
   "source": [
    "data.shape"
   ]
  },
  {
   "cell_type": "code",
   "execution_count": 5,
   "metadata": {
    "id": "rbpDgrXfEoVj",
    "scrolled": true
   },
   "outputs": [
    {
     "name": "stdout",
     "output_type": "stream",
     "text": [
      "<class 'pandas.core.frame.DataFrame'>\n",
      "RangeIndex: 19382 entries, 0 to 19381\n",
      "Data columns (total 12 columns):\n",
      " #   Column                    Non-Null Count  Dtype  \n",
      "---  ------                    --------------  -----  \n",
      " 0   #                         19382 non-null  int64  \n",
      " 1   claim_status              19084 non-null  object \n",
      " 2   video_id                  19382 non-null  int64  \n",
      " 3   video_duration_sec        19382 non-null  int64  \n",
      " 4   video_transcription_text  19084 non-null  object \n",
      " 5   verified_status           19382 non-null  object \n",
      " 6   author_ban_status         19382 non-null  object \n",
      " 7   video_view_count          19084 non-null  float64\n",
      " 8   video_like_count          19084 non-null  float64\n",
      " 9   video_share_count         19084 non-null  float64\n",
      " 10  video_download_count      19084 non-null  float64\n",
      " 11  video_comment_count       19084 non-null  float64\n",
      "dtypes: float64(5), int64(3), object(4)\n",
      "memory usage: 1.8+ MB\n"
     ]
    }
   ],
   "source": [
    "data.info()"
   ]
  },
  {
   "cell_type": "code",
   "execution_count": 6,
   "metadata": {
    "id": "HbpuAS2UqY01"
   },
   "outputs": [
    {
     "data": {
      "text/html": [
       "<div>\n",
       "<style scoped>\n",
       "    .dataframe tbody tr th:only-of-type {\n",
       "        vertical-align: middle;\n",
       "    }\n",
       "\n",
       "    .dataframe tbody tr th {\n",
       "        vertical-align: top;\n",
       "    }\n",
       "\n",
       "    .dataframe thead th {\n",
       "        text-align: right;\n",
       "    }\n",
       "</style>\n",
       "<table border=\"1\" class=\"dataframe\">\n",
       "  <thead>\n",
       "    <tr style=\"text-align: right;\">\n",
       "      <th></th>\n",
       "      <th>#</th>\n",
       "      <th>video_id</th>\n",
       "      <th>video_duration_sec</th>\n",
       "      <th>video_view_count</th>\n",
       "      <th>video_like_count</th>\n",
       "      <th>video_share_count</th>\n",
       "      <th>video_download_count</th>\n",
       "      <th>video_comment_count</th>\n",
       "    </tr>\n",
       "  </thead>\n",
       "  <tbody>\n",
       "    <tr>\n",
       "      <th>count</th>\n",
       "      <td>19382.000000</td>\n",
       "      <td>1.938200e+04</td>\n",
       "      <td>19382.000000</td>\n",
       "      <td>19084.000000</td>\n",
       "      <td>19084.000000</td>\n",
       "      <td>19084.000000</td>\n",
       "      <td>19084.000000</td>\n",
       "      <td>19084.000000</td>\n",
       "    </tr>\n",
       "    <tr>\n",
       "      <th>mean</th>\n",
       "      <td>9691.500000</td>\n",
       "      <td>5.627454e+09</td>\n",
       "      <td>32.421732</td>\n",
       "      <td>254708.558688</td>\n",
       "      <td>84304.636030</td>\n",
       "      <td>16735.248323</td>\n",
       "      <td>1049.429627</td>\n",
       "      <td>349.312146</td>\n",
       "    </tr>\n",
       "    <tr>\n",
       "      <th>std</th>\n",
       "      <td>5595.245794</td>\n",
       "      <td>2.536440e+09</td>\n",
       "      <td>16.229967</td>\n",
       "      <td>322893.280814</td>\n",
       "      <td>133420.546814</td>\n",
       "      <td>32036.174350</td>\n",
       "      <td>2004.299894</td>\n",
       "      <td>799.638865</td>\n",
       "    </tr>\n",
       "    <tr>\n",
       "      <th>min</th>\n",
       "      <td>1.000000</td>\n",
       "      <td>1.234959e+09</td>\n",
       "      <td>5.000000</td>\n",
       "      <td>20.000000</td>\n",
       "      <td>0.000000</td>\n",
       "      <td>0.000000</td>\n",
       "      <td>0.000000</td>\n",
       "      <td>0.000000</td>\n",
       "    </tr>\n",
       "    <tr>\n",
       "      <th>25%</th>\n",
       "      <td>4846.250000</td>\n",
       "      <td>3.430417e+09</td>\n",
       "      <td>18.000000</td>\n",
       "      <td>4942.500000</td>\n",
       "      <td>810.750000</td>\n",
       "      <td>115.000000</td>\n",
       "      <td>7.000000</td>\n",
       "      <td>1.000000</td>\n",
       "    </tr>\n",
       "    <tr>\n",
       "      <th>50%</th>\n",
       "      <td>9691.500000</td>\n",
       "      <td>5.618664e+09</td>\n",
       "      <td>32.000000</td>\n",
       "      <td>9954.500000</td>\n",
       "      <td>3403.500000</td>\n",
       "      <td>717.000000</td>\n",
       "      <td>46.000000</td>\n",
       "      <td>9.000000</td>\n",
       "    </tr>\n",
       "    <tr>\n",
       "      <th>75%</th>\n",
       "      <td>14536.750000</td>\n",
       "      <td>7.843960e+09</td>\n",
       "      <td>47.000000</td>\n",
       "      <td>504327.000000</td>\n",
       "      <td>125020.000000</td>\n",
       "      <td>18222.000000</td>\n",
       "      <td>1156.250000</td>\n",
       "      <td>292.000000</td>\n",
       "    </tr>\n",
       "    <tr>\n",
       "      <th>max</th>\n",
       "      <td>19382.000000</td>\n",
       "      <td>9.999873e+09</td>\n",
       "      <td>60.000000</td>\n",
       "      <td>999817.000000</td>\n",
       "      <td>657830.000000</td>\n",
       "      <td>256130.000000</td>\n",
       "      <td>14994.000000</td>\n",
       "      <td>9599.000000</td>\n",
       "    </tr>\n",
       "  </tbody>\n",
       "</table>\n",
       "</div>"
      ],
      "text/plain": [
       "                  #      video_id  video_duration_sec  video_view_count  \\\n",
       "count  19382.000000  1.938200e+04        19382.000000      19084.000000   \n",
       "mean    9691.500000  5.627454e+09           32.421732     254708.558688   \n",
       "std     5595.245794  2.536440e+09           16.229967     322893.280814   \n",
       "min        1.000000  1.234959e+09            5.000000         20.000000   \n",
       "25%     4846.250000  3.430417e+09           18.000000       4942.500000   \n",
       "50%     9691.500000  5.618664e+09           32.000000       9954.500000   \n",
       "75%    14536.750000  7.843960e+09           47.000000     504327.000000   \n",
       "max    19382.000000  9.999873e+09           60.000000     999817.000000   \n",
       "\n",
       "       video_like_count  video_share_count  video_download_count  \\\n",
       "count      19084.000000       19084.000000          19084.000000   \n",
       "mean       84304.636030       16735.248323           1049.429627   \n",
       "std       133420.546814       32036.174350           2004.299894   \n",
       "min            0.000000           0.000000              0.000000   \n",
       "25%          810.750000         115.000000              7.000000   \n",
       "50%         3403.500000         717.000000             46.000000   \n",
       "75%       125020.000000       18222.000000           1156.250000   \n",
       "max       657830.000000      256130.000000          14994.000000   \n",
       "\n",
       "       video_comment_count  \n",
       "count         19084.000000  \n",
       "mean            349.312146  \n",
       "std             799.638865  \n",
       "min               0.000000  \n",
       "25%               1.000000  \n",
       "50%               9.000000  \n",
       "75%             292.000000  \n",
       "max            9599.000000  "
      ]
     },
     "execution_count": 6,
     "metadata": {},
     "output_type": "execute_result"
    }
   ],
   "source": [
    "data.describe()"
   ]
  },
  {
   "cell_type": "code",
   "execution_count": 7,
   "metadata": {
    "id": "BrunHcfa7xnT"
   },
   "outputs": [
    {
     "data": {
      "text/plain": [
       "#                             0\n",
       "claim_status                298\n",
       "video_id                      0\n",
       "video_duration_sec            0\n",
       "video_transcription_text    298\n",
       "verified_status               0\n",
       "author_ban_status             0\n",
       "video_view_count            298\n",
       "video_like_count            298\n",
       "video_share_count           298\n",
       "video_download_count        298\n",
       "video_comment_count         298\n",
       "dtype: int64"
      ]
     },
     "execution_count": 7,
     "metadata": {},
     "output_type": "execute_result"
    }
   ],
   "source": [
    "data.isna().sum()"
   ]
  },
  {
   "cell_type": "code",
   "execution_count": 8,
   "metadata": {
    "id": "SHSj1Hma914I"
   },
   "outputs": [],
   "source": [
    "data_V2 = data.dropna(axis = 0)"
   ]
  },
  {
   "cell_type": "code",
   "execution_count": 9,
   "metadata": {
    "id": "ZYUF3xap9_Fa"
   },
   "outputs": [
    {
     "data": {
      "text/html": [
       "<div>\n",
       "<style scoped>\n",
       "    .dataframe tbody tr th:only-of-type {\n",
       "        vertical-align: middle;\n",
       "    }\n",
       "\n",
       "    .dataframe tbody tr th {\n",
       "        vertical-align: top;\n",
       "    }\n",
       "\n",
       "    .dataframe thead th {\n",
       "        text-align: right;\n",
       "    }\n",
       "</style>\n",
       "<table border=\"1\" class=\"dataframe\">\n",
       "  <thead>\n",
       "    <tr style=\"text-align: right;\">\n",
       "      <th></th>\n",
       "      <th>#</th>\n",
       "      <th>claim_status</th>\n",
       "      <th>video_id</th>\n",
       "      <th>video_duration_sec</th>\n",
       "      <th>video_transcription_text</th>\n",
       "      <th>verified_status</th>\n",
       "      <th>author_ban_status</th>\n",
       "      <th>video_view_count</th>\n",
       "      <th>video_like_count</th>\n",
       "      <th>video_share_count</th>\n",
       "      <th>video_download_count</th>\n",
       "      <th>video_comment_count</th>\n",
       "    </tr>\n",
       "  </thead>\n",
       "  <tbody>\n",
       "    <tr>\n",
       "      <th>0</th>\n",
       "      <td>1</td>\n",
       "      <td>claim</td>\n",
       "      <td>7017666017</td>\n",
       "      <td>59</td>\n",
       "      <td>someone shared with me that drone deliveries a...</td>\n",
       "      <td>not verified</td>\n",
       "      <td>under review</td>\n",
       "      <td>343296.0</td>\n",
       "      <td>19425.0</td>\n",
       "      <td>241.0</td>\n",
       "      <td>1.0</td>\n",
       "      <td>0.0</td>\n",
       "    </tr>\n",
       "    <tr>\n",
       "      <th>1</th>\n",
       "      <td>2</td>\n",
       "      <td>claim</td>\n",
       "      <td>4014381136</td>\n",
       "      <td>32</td>\n",
       "      <td>someone shared with me that there are more mic...</td>\n",
       "      <td>not verified</td>\n",
       "      <td>active</td>\n",
       "      <td>140877.0</td>\n",
       "      <td>77355.0</td>\n",
       "      <td>19034.0</td>\n",
       "      <td>1161.0</td>\n",
       "      <td>684.0</td>\n",
       "    </tr>\n",
       "    <tr>\n",
       "      <th>2</th>\n",
       "      <td>3</td>\n",
       "      <td>claim</td>\n",
       "      <td>9859838091</td>\n",
       "      <td>31</td>\n",
       "      <td>someone shared with me that american industria...</td>\n",
       "      <td>not verified</td>\n",
       "      <td>active</td>\n",
       "      <td>902185.0</td>\n",
       "      <td>97690.0</td>\n",
       "      <td>2858.0</td>\n",
       "      <td>833.0</td>\n",
       "      <td>329.0</td>\n",
       "    </tr>\n",
       "    <tr>\n",
       "      <th>3</th>\n",
       "      <td>4</td>\n",
       "      <td>claim</td>\n",
       "      <td>1866847991</td>\n",
       "      <td>25</td>\n",
       "      <td>someone shared with me that the metro of st. p...</td>\n",
       "      <td>not verified</td>\n",
       "      <td>active</td>\n",
       "      <td>437506.0</td>\n",
       "      <td>239954.0</td>\n",
       "      <td>34812.0</td>\n",
       "      <td>1234.0</td>\n",
       "      <td>584.0</td>\n",
       "    </tr>\n",
       "    <tr>\n",
       "      <th>4</th>\n",
       "      <td>5</td>\n",
       "      <td>claim</td>\n",
       "      <td>7105231098</td>\n",
       "      <td>19</td>\n",
       "      <td>someone shared with me that the number of busi...</td>\n",
       "      <td>not verified</td>\n",
       "      <td>active</td>\n",
       "      <td>56167.0</td>\n",
       "      <td>34987.0</td>\n",
       "      <td>4110.0</td>\n",
       "      <td>547.0</td>\n",
       "      <td>152.0</td>\n",
       "    </tr>\n",
       "  </tbody>\n",
       "</table>\n",
       "</div>"
      ],
      "text/plain": [
       "   # claim_status    video_id  video_duration_sec  \\\n",
       "0  1        claim  7017666017                  59   \n",
       "1  2        claim  4014381136                  32   \n",
       "2  3        claim  9859838091                  31   \n",
       "3  4        claim  1866847991                  25   \n",
       "4  5        claim  7105231098                  19   \n",
       "\n",
       "                            video_transcription_text verified_status  \\\n",
       "0  someone shared with me that drone deliveries a...    not verified   \n",
       "1  someone shared with me that there are more mic...    not verified   \n",
       "2  someone shared with me that american industria...    not verified   \n",
       "3  someone shared with me that the metro of st. p...    not verified   \n",
       "4  someone shared with me that the number of busi...    not verified   \n",
       "\n",
       "  author_ban_status  video_view_count  video_like_count  video_share_count  \\\n",
       "0      under review          343296.0           19425.0              241.0   \n",
       "1            active          140877.0           77355.0            19034.0   \n",
       "2            active          902185.0           97690.0             2858.0   \n",
       "3            active          437506.0          239954.0            34812.0   \n",
       "4            active           56167.0           34987.0             4110.0   \n",
       "\n",
       "   video_download_count  video_comment_count  \n",
       "0                   1.0                  0.0  \n",
       "1                1161.0                684.0  \n",
       "2                 833.0                329.0  \n",
       "3                1234.0                584.0  \n",
       "4                 547.0                152.0  "
      ]
     },
     "execution_count": 9,
     "metadata": {},
     "output_type": "execute_result"
    }
   ],
   "source": [
    "data_V2.head()"
   ]
  },
  {
   "cell_type": "code",
   "execution_count": 10,
   "metadata": {
    "id": "IKaGnWIsiHpH"
   },
   "outputs": [
    {
     "data": {
      "text/plain": [
       "0"
      ]
     },
     "execution_count": 10,
     "metadata": {},
     "output_type": "execute_result"
    }
   ],
   "source": [
    "# Checking for duplicates\n",
    "data_V2.duplicated().sum()"
   ]
  },
  {
   "cell_type": "code",
   "execution_count": 11,
   "metadata": {
    "id": "Ts_lcV6qUQHq"
   },
   "outputs": [
    {
     "data": {
      "image/png": "[encoded data removed]",
      "text/plain": [
       "<Figure size 500x200 with 1 Axes>"
      ]
     },
     "metadata": {},
     "output_type": "display_data"
    }
   ],
   "source": [
    "# Boxplot to visualize distribution of `video_duration_sec`\n",
    "plt.figure(figsize = (5,2))\n",
    "sns.boxplot(data = data_V2, x = 'video_duration_sec', color = 'lightcoral', saturation = 0.35)\n",
    "plt.title('Boxplot of Video Duration')\n",
    "plt.xlabel('Duration(seconds)')\n",
    "plt.show()"
   ]
  },
  {
   "cell_type": "code",
   "execution_count": 12,
   "metadata": {
    "id": "qlUccI91a4NH"
   },
   "outputs": [
    {
     "data": {
      "image/png": "[encoded data removed]",
      "text/plain": [
       "<Figure size 500x200 with 1 Axes>"
      ]
     },
     "metadata": {},
     "output_type": "display_data"
    }
   ],
   "source": [
    "# Boxplot to visualize distribution of `video_view_count`\n",
    "plt.figure(figsize = (5,2))\n",
    "sns.boxplot(data = data_V2, x = 'video_view_count', color = 'lightcoral', saturation = 0.55)\n",
    "plt.title('Boxplot of Video View Count')\n",
    "plt.xlabel('View Count')\n",
    "plt.show()"
   ]
  },
  {
   "cell_type": "code",
   "execution_count": 13,
   "metadata": {
    "id": "N0UVdeRUzEEF"
   },
   "outputs": [
    {
     "data": {
      "image/png": "[encoded data removed]",
      "text/plain": [
       "<Figure size 500x200 with 1 Axes>"
      ]
     },
     "metadata": {},
     "output_type": "display_data"
    }
   ],
   "source": [
    "# Boxplot to visualize distribution of `video_like_count`\n",
    "plt.figure(figsize = (5,2))\n",
    "ax = sns.boxplot(data = data_V2, x = 'video_like_count', color = 'lightcoral', saturation = 0.80)\n",
    "plt.title('Boxplot of Video Like Count')\n",
    "plt.xlabel('Like Count')\n",
    "labels = [0] + [str(i) + 'k' for i in range(100, 701, 100)] \n",
    "ax.set_xticks(range(0,7*10**5+1,10**5)) \n",
    "ax.set_xticklabels(labels)\n",
    "plt.show()"
   ]
  },
  {
   "cell_type": "code",
   "execution_count": 14,
   "metadata": {
    "id": "-gE1fkGo0eG9"
   },
   "outputs": [
    {
     "data": {
      "image/png": "[encoded data removed]",
      "text/plain": [
       "<Figure size 500x200 with 1 Axes>"
      ]
     },
     "metadata": {},
     "output_type": "display_data"
    }
   ],
   "source": [
    "# Boxplot to visualize distribution of `video_comment_count`\n",
    "plt.figure(figsize = (5,2))\n",
    "sns.boxplot(data = data_V2, x = 'video_comment_count', color = 'lightcoral', saturation = 1)\n",
    "plt.title('Boxplot of Video Comment Count')\n",
    "plt.xlabel('Comment Count')\n",
    "plt.show()"
   ]
  },
  {
   "cell_type": "code",
   "execution_count": 15,
   "metadata": {},
   "outputs": [
    {
     "name": "stdout",
     "output_type": "stream",
     "text": [
      "Number of outliers for video_like_count: 1726\n",
      "Number of outliers for video_comment_count: 2789\n"
     ]
    }
   ],
   "source": [
    "# Checking outliers for video_like_count and video_comment_count variables\n",
    "\n",
    "count_columns = ['video_like_count', 'video_comment_count']\n",
    "\n",
    "for column in count_columns:\n",
    "    Q1 = data_V2[column].quantile(0.25)\n",
    "    Q3 = data_V2[column].quantile(0.75) \n",
    "    IQR = Q3-Q1\n",
    "    outlier_threshold = Q3 + 1.5 * IQR\n",
    "\n",
    "    outlier_count = (data_V2[column] > outlier_threshold).sum()\n",
    "\n",
    "    print(f'Number of outliers for {column}:', outlier_count)"
   ]
  },
  {
   "cell_type": "code",
   "execution_count": 16,
   "metadata": {
    "id": "85JfQprd5Kn9"
   },
   "outputs": [
    {
     "data": {
      "text/plain": [
       "6       486192.0\n",
       "12      434565.0\n",
       "13      497236.0\n",
       "27      329068.0\n",
       "28      332569.0\n",
       "          ...   \n",
       "9586    455662.0\n",
       "9587    456631.0\n",
       "9597    568550.0\n",
       "9603    460743.0\n",
       "9604    360080.0\n",
       "Name: video_like_count, Length: 1726, dtype: float64"
      ]
     },
     "execution_count": 16,
     "metadata": {},
     "output_type": "execute_result"
    }
   ],
   "source": [
    "# Identifying outliers for video_like_count \n",
    "\n",
    "Q1 = data_V2['video_like_count'].quantile(0.25)\n",
    "Q3 = data_V2['video_like_count'].quantile(0.75) \n",
    "IQR = Q3-Q1\n",
    "\n",
    "upper_threshold = Q3 + 1.5 * IQR\n",
    "data_V2.loc[data_V2['video_like_count'] > upper_threshold, 'video_like_count']"
   ]
  },
  {
   "cell_type": "code",
   "execution_count": 17,
   "metadata": {},
   "outputs": [
    {
     "data": {
      "text/plain": [
       "5       1857.0\n",
       "6       5446.0\n",
       "9       2540.0\n",
       "12      1411.0\n",
       "13       805.0\n",
       "         ...  \n",
       "9594     747.0\n",
       "9597    2875.0\n",
       "9603    3372.0\n",
       "9604    2432.0\n",
       "9605     794.0\n",
       "Name: video_comment_count, Length: 2789, dtype: float64"
      ]
     },
     "execution_count": 17,
     "metadata": {},
     "output_type": "execute_result"
    }
   ],
   "source": [
    "# Identifying outliers for video_comment_count \n",
    "\n",
    "Q1 = data_V2['video_comment_count'].quantile(0.25)\n",
    "Q3 = data_V2['video_comment_count'].quantile(0.75) \n",
    "IQR = Q3-Q1\n",
    "\n",
    "upper_threshold = Q3 + 1.5 * IQR\n",
    "data_V2.loc[data_V2['video_comment_count'] > upper_threshold, 'video_comment_count']"
   ]
  },
  {
   "cell_type": "code",
   "execution_count": 18,
   "metadata": {
    "id": "e3klRqlsJhtp"
   },
   "outputs": [
    {
     "data": {
      "text/plain": [
       "verified_status\n",
       "not verified    0.93712\n",
       "verified        0.06288\n",
       "Name: proportion, dtype: float64"
      ]
     },
     "execution_count": 18,
     "metadata": {},
     "output_type": "execute_result"
    }
   ],
   "source": [
    "# Displaying verified/unverified proportions to examine class balance\n",
    "data_V2['verified_status'].value_counts(normalize = True)"
   ]
  },
  {
   "cell_type": "markdown",
   "metadata": {
    "id": "ePYWt2p5LqlW"
   },
   "source": [
    "**Remarks:**\n",
    "- Approx. 94.2% of the dataset belongs to videos posted by unverified accounts.\n",
    "- In contrast, 5.8% of videos belongs to verified accounts. \n",
    "- The outcome variable(verified/unverified) of logistic regression is not balanced."
   ]
  },
  {
   "cell_type": "code",
   "execution_count": 19,
   "metadata": {
    "id": "AWhetFT3Ggyp",
    "scrolled": false
   },
   "outputs": [
    {
     "data": {
      "text/html": [
       "<div>\n",
       "<style scoped>\n",
       "    .dataframe tbody tr th:only-of-type {\n",
       "        vertical-align: middle;\n",
       "    }\n",
       "\n",
       "    .dataframe tbody tr th {\n",
       "        vertical-align: top;\n",
       "    }\n",
       "\n",
       "    .dataframe thead th {\n",
       "        text-align: right;\n",
       "    }\n",
       "</style>\n",
       "<table border=\"1\" class=\"dataframe\">\n",
       "  <thead>\n",
       "    <tr style=\"text-align: right;\">\n",
       "      <th></th>\n",
       "      <th>#</th>\n",
       "      <th>claim_status</th>\n",
       "      <th>video_id</th>\n",
       "      <th>video_duration_sec</th>\n",
       "      <th>video_transcription_text</th>\n",
       "      <th>verified_status</th>\n",
       "      <th>author_ban_status</th>\n",
       "      <th>video_view_count</th>\n",
       "      <th>video_like_count</th>\n",
       "      <th>video_share_count</th>\n",
       "      <th>video_download_count</th>\n",
       "      <th>video_comment_count</th>\n",
       "    </tr>\n",
       "  </thead>\n",
       "  <tbody>\n",
       "    <tr>\n",
       "      <th>0</th>\n",
       "      <td>1</td>\n",
       "      <td>claim</td>\n",
       "      <td>7017666017</td>\n",
       "      <td>59</td>\n",
       "      <td>someone shared with me that drone deliveries a...</td>\n",
       "      <td>not verified</td>\n",
       "      <td>under review</td>\n",
       "      <td>343296.0</td>\n",
       "      <td>19425.0</td>\n",
       "      <td>241.0</td>\n",
       "      <td>1.0</td>\n",
       "      <td>0.0</td>\n",
       "    </tr>\n",
       "    <tr>\n",
       "      <th>1</th>\n",
       "      <td>2</td>\n",
       "      <td>claim</td>\n",
       "      <td>4014381136</td>\n",
       "      <td>32</td>\n",
       "      <td>someone shared with me that there are more mic...</td>\n",
       "      <td>not verified</td>\n",
       "      <td>active</td>\n",
       "      <td>140877.0</td>\n",
       "      <td>77355.0</td>\n",
       "      <td>19034.0</td>\n",
       "      <td>1161.0</td>\n",
       "      <td>684.0</td>\n",
       "    </tr>\n",
       "    <tr>\n",
       "      <th>2</th>\n",
       "      <td>3</td>\n",
       "      <td>claim</td>\n",
       "      <td>9859838091</td>\n",
       "      <td>31</td>\n",
       "      <td>someone shared with me that american industria...</td>\n",
       "      <td>not verified</td>\n",
       "      <td>active</td>\n",
       "      <td>902185.0</td>\n",
       "      <td>97690.0</td>\n",
       "      <td>2858.0</td>\n",
       "      <td>833.0</td>\n",
       "      <td>329.0</td>\n",
       "    </tr>\n",
       "    <tr>\n",
       "      <th>3</th>\n",
       "      <td>4</td>\n",
       "      <td>claim</td>\n",
       "      <td>1866847991</td>\n",
       "      <td>25</td>\n",
       "      <td>someone shared with me that the metro of st. p...</td>\n",
       "      <td>not verified</td>\n",
       "      <td>active</td>\n",
       "      <td>437506.0</td>\n",
       "      <td>239954.0</td>\n",
       "      <td>34812.0</td>\n",
       "      <td>1234.0</td>\n",
       "      <td>584.0</td>\n",
       "    </tr>\n",
       "    <tr>\n",
       "      <th>4</th>\n",
       "      <td>5</td>\n",
       "      <td>claim</td>\n",
       "      <td>7105231098</td>\n",
       "      <td>19</td>\n",
       "      <td>someone shared with me that the number of busi...</td>\n",
       "      <td>not verified</td>\n",
       "      <td>active</td>\n",
       "      <td>56167.0</td>\n",
       "      <td>34987.0</td>\n",
       "      <td>4110.0</td>\n",
       "      <td>547.0</td>\n",
       "      <td>152.0</td>\n",
       "    </tr>\n",
       "    <tr>\n",
       "      <th>...</th>\n",
       "      <td>...</td>\n",
       "      <td>...</td>\n",
       "      <td>...</td>\n",
       "      <td>...</td>\n",
       "      <td>...</td>\n",
       "      <td>...</td>\n",
       "      <td>...</td>\n",
       "      <td>...</td>\n",
       "      <td>...</td>\n",
       "      <td>...</td>\n",
       "      <td>...</td>\n",
       "      <td>...</td>\n",
       "    </tr>\n",
       "    <tr>\n",
       "      <th>35763</th>\n",
       "      <td>4736</td>\n",
       "      <td>claim</td>\n",
       "      <td>9170014897</td>\n",
       "      <td>42</td>\n",
       "      <td>i learned  on social media a claim that most c...</td>\n",
       "      <td>verified</td>\n",
       "      <td>active</td>\n",
       "      <td>993273.0</td>\n",
       "      <td>294351.0</td>\n",
       "      <td>112538.0</td>\n",
       "      <td>126.0</td>\n",
       "      <td>62.0</td>\n",
       "    </tr>\n",
       "    <tr>\n",
       "      <th>35764</th>\n",
       "      <td>14662</td>\n",
       "      <td>opinion</td>\n",
       "      <td>4841249433</td>\n",
       "      <td>55</td>\n",
       "      <td>my family's point of view is that a single day...</td>\n",
       "      <td>verified</td>\n",
       "      <td>active</td>\n",
       "      <td>6688.0</td>\n",
       "      <td>2431.0</td>\n",
       "      <td>449.0</td>\n",
       "      <td>42.0</td>\n",
       "      <td>3.0</td>\n",
       "    </tr>\n",
       "    <tr>\n",
       "      <th>35765</th>\n",
       "      <td>18418</td>\n",
       "      <td>opinion</td>\n",
       "      <td>8292890373</td>\n",
       "      <td>39</td>\n",
       "      <td>my colleagues are willing to wager that the ea...</td>\n",
       "      <td>verified</td>\n",
       "      <td>active</td>\n",
       "      <td>5009.0</td>\n",
       "      <td>1418.0</td>\n",
       "      <td>155.0</td>\n",
       "      <td>17.0</td>\n",
       "      <td>0.0</td>\n",
       "    </tr>\n",
       "    <tr>\n",
       "      <th>35766</th>\n",
       "      <td>10760</td>\n",
       "      <td>opinion</td>\n",
       "      <td>4107838619</td>\n",
       "      <td>16</td>\n",
       "      <td>my friends feel that one strand of hair can ho...</td>\n",
       "      <td>verified</td>\n",
       "      <td>active</td>\n",
       "      <td>921.0</td>\n",
       "      <td>55.0</td>\n",
       "      <td>19.0</td>\n",
       "      <td>1.0</td>\n",
       "      <td>0.0</td>\n",
       "    </tr>\n",
       "    <tr>\n",
       "      <th>35767</th>\n",
       "      <td>13646</td>\n",
       "      <td>opinion</td>\n",
       "      <td>3933514648</td>\n",
       "      <td>50</td>\n",
       "      <td>my friends' opinion is that humans will live o...</td>\n",
       "      <td>verified</td>\n",
       "      <td>active</td>\n",
       "      <td>6478.0</td>\n",
       "      <td>1897.0</td>\n",
       "      <td>542.0</td>\n",
       "      <td>14.0</td>\n",
       "      <td>0.0</td>\n",
       "    </tr>\n",
       "  </tbody>\n",
       "</table>\n",
       "<p>35768 rows × 12 columns</p>\n",
       "</div>"
      ],
      "text/plain": [
       "           # claim_status    video_id  video_duration_sec  \\\n",
       "0          1        claim  7017666017                  59   \n",
       "1          2        claim  4014381136                  32   \n",
       "2          3        claim  9859838091                  31   \n",
       "3          4        claim  1866847991                  25   \n",
       "4          5        claim  7105231098                  19   \n",
       "...      ...          ...         ...                 ...   \n",
       "35763   4736        claim  9170014897                  42   \n",
       "35764  14662      opinion  4841249433                  55   \n",
       "35765  18418      opinion  8292890373                  39   \n",
       "35766  10760      opinion  4107838619                  16   \n",
       "35767  13646      opinion  3933514648                  50   \n",
       "\n",
       "                                video_transcription_text verified_status  \\\n",
       "0      someone shared with me that drone deliveries a...    not verified   \n",
       "1      someone shared with me that there are more mic...    not verified   \n",
       "2      someone shared with me that american industria...    not verified   \n",
       "3      someone shared with me that the metro of st. p...    not verified   \n",
       "4      someone shared with me that the number of busi...    not verified   \n",
       "...                                                  ...             ...   \n",
       "35763  i learned  on social media a claim that most c...        verified   \n",
       "35764  my family's point of view is that a single day...        verified   \n",
       "35765  my colleagues are willing to wager that the ea...        verified   \n",
       "35766  my friends feel that one strand of hair can ho...        verified   \n",
       "35767  my friends' opinion is that humans will live o...        verified   \n",
       "\n",
       "      author_ban_status  video_view_count  video_like_count  \\\n",
       "0          under review          343296.0           19425.0   \n",
       "1                active          140877.0           77355.0   \n",
       "2                active          902185.0           97690.0   \n",
       "3                active          437506.0          239954.0   \n",
       "4                active           56167.0           34987.0   \n",
       "...                 ...               ...               ...   \n",
       "35763            active          993273.0          294351.0   \n",
       "35764            active            6688.0            2431.0   \n",
       "35765            active            5009.0            1418.0   \n",
       "35766            active             921.0              55.0   \n",
       "35767            active            6478.0            1897.0   \n",
       "\n",
       "       video_share_count  video_download_count  video_comment_count  \n",
       "0                  241.0                   1.0                  0.0  \n",
       "1                19034.0                1161.0                684.0  \n",
       "2                 2858.0                 833.0                329.0  \n",
       "3                34812.0                1234.0                584.0  \n",
       "4                 4110.0                 547.0                152.0  \n",
       "...                  ...                   ...                  ...  \n",
       "35763           112538.0                 126.0                 62.0  \n",
       "35764              449.0                  42.0                  3.0  \n",
       "35765              155.0                  17.0                  0.0  \n",
       "35766               19.0                   1.0                  0.0  \n",
       "35767              542.0                  14.0                  0.0  \n",
       "\n",
       "[35768 rows x 12 columns]"
      ]
     },
     "execution_count": 19,
     "metadata": {},
     "output_type": "execute_result"
    }
   ],
   "source": [
    "# Resampling to establish class balance in outcome variable\n",
    "\n",
    "# Identify data points from majority and minority classes\n",
    "data_majority = data_V2[data_V2['verified_status'] == 'not verified']\n",
    "data_minority = data_V2[data_V2['verified_status'] == 'verified']\n",
    "\n",
    "# Upsample the minority class (which is \"verified\")\n",
    "data_minority_upsample = resample(data_minority, replace = True, \n",
    "                         n_samples = len(data_majority), random_state = 0)\n",
    "\n",
    "# Combine majority class with upsampled minority class\n",
    "data_upsample = pd.concat([data_majority, data_minority_upsample]).reset_index(drop = True)\n",
    "\n",
    "# Display new class counts\n",
    "data_upsample"
   ]
  },
  {
   "cell_type": "code",
   "execution_count": 20,
   "metadata": {},
   "outputs": [
    {
     "name": "stdout",
     "output_type": "stream",
     "text": [
      "verified_status\n",
      "not verified    17884\n",
      "verified        17884\n",
      "Name: count, dtype: int64\n",
      "\n",
      "verified_status\n",
      "not verified    0.5\n",
      "verified        0.5\n",
      "Name: proportion, dtype: float64\n"
     ]
    }
   ],
   "source": [
    "print(data_upsample['verified_status'].value_counts(normalize = False))\n",
    "print('')\n",
    "print(data_upsample['verified_status'].value_counts(normalize = True))"
   ]
  },
  {
   "cell_type": "code",
   "execution_count": 21,
   "metadata": {
    "id": "w-aaFCPCD88e"
   },
   "outputs": [
    {
     "data": {
      "text/html": [
       "<div>\n",
       "<style scoped>\n",
       "    .dataframe tbody tr th:only-of-type {\n",
       "        vertical-align: middle;\n",
       "    }\n",
       "\n",
       "    .dataframe tbody tr th {\n",
       "        vertical-align: top;\n",
       "    }\n",
       "\n",
       "    .dataframe thead th {\n",
       "        text-align: right;\n",
       "    }\n",
       "</style>\n",
       "<table border=\"1\" class=\"dataframe\">\n",
       "  <thead>\n",
       "    <tr style=\"text-align: right;\">\n",
       "      <th></th>\n",
       "      <th>video_transcription_text</th>\n",
       "    </tr>\n",
       "    <tr>\n",
       "      <th>verified_status</th>\n",
       "      <th></th>\n",
       "    </tr>\n",
       "  </thead>\n",
       "  <tbody>\n",
       "    <tr>\n",
       "      <th>not verified</th>\n",
       "      <td>89.401141</td>\n",
       "    </tr>\n",
       "    <tr>\n",
       "      <th>verified</th>\n",
       "      <td>84.569559</td>\n",
       "    </tr>\n",
       "  </tbody>\n",
       "</table>\n",
       "</div>"
      ],
      "text/plain": [
       "                 video_transcription_text\n",
       "verified_status                          \n",
       "not verified                    89.401141\n",
       "verified                        84.569559"
      ]
     },
     "execution_count": 21,
     "metadata": {},
     "output_type": "execute_result"
    }
   ],
   "source": [
    "# Avg. `video_transcription_text` length for claims and opinions\n",
    "data_upsample[['verified_status', 'video_transcription_text']].groupby(\n",
    "    by = 'verified_status')[['video_transcription_text']].agg(\n",
    "    func = lambda array: np.mean([len(text) for text in array]))"
   ]
  },
  {
   "cell_type": "code",
   "execution_count": 22,
   "metadata": {
    "id": "8Yr9hhhVHeYY"
   },
   "outputs": [
    {
     "data": {
      "text/html": [
       "<div>\n",
       "<style scoped>\n",
       "    .dataframe tbody tr th:only-of-type {\n",
       "        vertical-align: middle;\n",
       "    }\n",
       "\n",
       "    .dataframe tbody tr th {\n",
       "        vertical-align: top;\n",
       "    }\n",
       "\n",
       "    .dataframe thead th {\n",
       "        text-align: right;\n",
       "    }\n",
       "</style>\n",
       "<table border=\"1\" class=\"dataframe\">\n",
       "  <thead>\n",
       "    <tr style=\"text-align: right;\">\n",
       "      <th></th>\n",
       "      <th>#</th>\n",
       "      <th>claim_status</th>\n",
       "      <th>video_id</th>\n",
       "      <th>video_duration_sec</th>\n",
       "      <th>video_transcription_text</th>\n",
       "      <th>verified_status</th>\n",
       "      <th>author_ban_status</th>\n",
       "      <th>video_view_count</th>\n",
       "      <th>video_like_count</th>\n",
       "      <th>video_share_count</th>\n",
       "      <th>video_download_count</th>\n",
       "      <th>video_comment_count</th>\n",
       "      <th>video_text_length</th>\n",
       "    </tr>\n",
       "  </thead>\n",
       "  <tbody>\n",
       "    <tr>\n",
       "      <th>0</th>\n",
       "      <td>1</td>\n",
       "      <td>claim</td>\n",
       "      <td>7017666017</td>\n",
       "      <td>59</td>\n",
       "      <td>someone shared with me that drone deliveries a...</td>\n",
       "      <td>not verified</td>\n",
       "      <td>under review</td>\n",
       "      <td>343296.0</td>\n",
       "      <td>19425.0</td>\n",
       "      <td>241.0</td>\n",
       "      <td>1.0</td>\n",
       "      <td>0.0</td>\n",
       "      <td>97</td>\n",
       "    </tr>\n",
       "    <tr>\n",
       "      <th>1</th>\n",
       "      <td>2</td>\n",
       "      <td>claim</td>\n",
       "      <td>4014381136</td>\n",
       "      <td>32</td>\n",
       "      <td>someone shared with me that there are more mic...</td>\n",
       "      <td>not verified</td>\n",
       "      <td>active</td>\n",
       "      <td>140877.0</td>\n",
       "      <td>77355.0</td>\n",
       "      <td>19034.0</td>\n",
       "      <td>1161.0</td>\n",
       "      <td>684.0</td>\n",
       "      <td>107</td>\n",
       "    </tr>\n",
       "    <tr>\n",
       "      <th>2</th>\n",
       "      <td>3</td>\n",
       "      <td>claim</td>\n",
       "      <td>9859838091</td>\n",
       "      <td>31</td>\n",
       "      <td>someone shared with me that american industria...</td>\n",
       "      <td>not verified</td>\n",
       "      <td>active</td>\n",
       "      <td>902185.0</td>\n",
       "      <td>97690.0</td>\n",
       "      <td>2858.0</td>\n",
       "      <td>833.0</td>\n",
       "      <td>329.0</td>\n",
       "      <td>137</td>\n",
       "    </tr>\n",
       "    <tr>\n",
       "      <th>3</th>\n",
       "      <td>4</td>\n",
       "      <td>claim</td>\n",
       "      <td>1866847991</td>\n",
       "      <td>25</td>\n",
       "      <td>someone shared with me that the metro of st. p...</td>\n",
       "      <td>not verified</td>\n",
       "      <td>active</td>\n",
       "      <td>437506.0</td>\n",
       "      <td>239954.0</td>\n",
       "      <td>34812.0</td>\n",
       "      <td>1234.0</td>\n",
       "      <td>584.0</td>\n",
       "      <td>131</td>\n",
       "    </tr>\n",
       "    <tr>\n",
       "      <th>4</th>\n",
       "      <td>5</td>\n",
       "      <td>claim</td>\n",
       "      <td>7105231098</td>\n",
       "      <td>19</td>\n",
       "      <td>someone shared with me that the number of busi...</td>\n",
       "      <td>not verified</td>\n",
       "      <td>active</td>\n",
       "      <td>56167.0</td>\n",
       "      <td>34987.0</td>\n",
       "      <td>4110.0</td>\n",
       "      <td>547.0</td>\n",
       "      <td>152.0</td>\n",
       "      <td>128</td>\n",
       "    </tr>\n",
       "  </tbody>\n",
       "</table>\n",
       "</div>"
      ],
      "text/plain": [
       "   # claim_status    video_id  video_duration_sec  \\\n",
       "0  1        claim  7017666017                  59   \n",
       "1  2        claim  4014381136                  32   \n",
       "2  3        claim  9859838091                  31   \n",
       "3  4        claim  1866847991                  25   \n",
       "4  5        claim  7105231098                  19   \n",
       "\n",
       "                            video_transcription_text verified_status  \\\n",
       "0  someone shared with me that drone deliveries a...    not verified   \n",
       "1  someone shared with me that there are more mic...    not verified   \n",
       "2  someone shared with me that american industria...    not verified   \n",
       "3  someone shared with me that the metro of st. p...    not verified   \n",
       "4  someone shared with me that the number of busi...    not verified   \n",
       "\n",
       "  author_ban_status  video_view_count  video_like_count  video_share_count  \\\n",
       "0      under review          343296.0           19425.0              241.0   \n",
       "1            active          140877.0           77355.0            19034.0   \n",
       "2            active          902185.0           97690.0             2858.0   \n",
       "3            active          437506.0          239954.0            34812.0   \n",
       "4            active           56167.0           34987.0             4110.0   \n",
       "\n",
       "   video_download_count  video_comment_count  video_text_length  \n",
       "0                   1.0                  0.0                 97  \n",
       "1                1161.0                684.0                107  \n",
       "2                 833.0                329.0                137  \n",
       "3                1234.0                584.0                131  \n",
       "4                 547.0                152.0                128  "
      ]
     },
     "execution_count": 22,
     "metadata": {},
     "output_type": "execute_result"
    }
   ],
   "source": [
    "# Extracting each `video_transcription_text` length and place it as column to df as potential feature in model\n",
    "data_upsample['video_text_length'] = data_upsample['video_transcription_text'].apply(func = lambda text: len(text))\n",
    "\n",
    "data_upsample.head()"
   ]
  },
  {
   "cell_type": "code",
   "execution_count": 23,
   "metadata": {
    "id": "MSq136S3TIYe"
   },
   "outputs": [
    {
     "data": {
      "image/png": "[encoded data removed]",
      "text/plain": [
       "<Figure size 800x600 with 1 Axes>"
      ]
     },
     "metadata": {},
     "output_type": "display_data"
    }
   ],
   "source": [
    "# Histogram of `video_transcription_text` length for videos posted by verified accounts by unverified accounts\n",
    "\n",
    "plt.figure(figsize = (8,6))\n",
    "sns.histplot(data = data_upsample, x = 'video_text_length', hue = 'verified_status',\n",
    "             multiple = 'stack', shrink = 1, palette = 'Set2')\n",
    "plt.title('Distribution of Video Text Length based on Account Verification')\n",
    "plt.xlabel('Video Text Length')\n",
    "plt.ylabel('Count')\n",
    "\n",
    "plt.savefig(\"Distribution-of-Video-Text-Length-Based-on-Account.png\", dpi = 300, bbox_inches = 'tight')\n",
    "plt.show()"
   ]
  },
  {
   "cell_type": "markdown",
   "metadata": {
    "id": "KlF7ZNSyW0yV"
   },
   "source": [
    "### Examining Correlations among Features"
   ]
  },
  {
   "cell_type": "code",
   "execution_count": 24,
   "metadata": {
    "id": "KCEzE-gwL5gq"
   },
   "outputs": [
    {
     "data": {
      "text/html": [
       "<div>\n",
       "<style scoped>\n",
       "    .dataframe tbody tr th:only-of-type {\n",
       "        vertical-align: middle;\n",
       "    }\n",
       "\n",
       "    .dataframe tbody tr th {\n",
       "        vertical-align: top;\n",
       "    }\n",
       "\n",
       "    .dataframe thead th {\n",
       "        text-align: right;\n",
       "    }\n",
       "</style>\n",
       "<table border=\"1\" class=\"dataframe\">\n",
       "  <thead>\n",
       "    <tr style=\"text-align: right;\">\n",
       "      <th></th>\n",
       "      <th>#</th>\n",
       "      <th>video_id</th>\n",
       "      <th>video_duration_sec</th>\n",
       "      <th>video_view_count</th>\n",
       "      <th>video_like_count</th>\n",
       "      <th>video_share_count</th>\n",
       "      <th>video_download_count</th>\n",
       "      <th>video_comment_count</th>\n",
       "      <th>video_text_length</th>\n",
       "    </tr>\n",
       "  </thead>\n",
       "  <tbody>\n",
       "    <tr>\n",
       "      <th>#</th>\n",
       "      <td>1.000000</td>\n",
       "      <td>-0.000853</td>\n",
       "      <td>-0.011729</td>\n",
       "      <td>-0.697007</td>\n",
       "      <td>-0.581483</td>\n",
       "      <td>-0.504015</td>\n",
       "      <td>-0.487096</td>\n",
       "      <td>-0.413799</td>\n",
       "      <td>-0.193677</td>\n",
       "    </tr>\n",
       "    <tr>\n",
       "      <th>video_id</th>\n",
       "      <td>-0.000853</td>\n",
       "      <td>1.000000</td>\n",
       "      <td>0.011859</td>\n",
       "      <td>0.002554</td>\n",
       "      <td>0.006507</td>\n",
       "      <td>0.010515</td>\n",
       "      <td>0.008753</td>\n",
       "      <td>0.013983</td>\n",
       "      <td>-0.007083</td>\n",
       "    </tr>\n",
       "    <tr>\n",
       "      <th>video_duration_sec</th>\n",
       "      <td>-0.011729</td>\n",
       "      <td>0.011859</td>\n",
       "      <td>1.000000</td>\n",
       "      <td>0.013589</td>\n",
       "      <td>0.004890</td>\n",
       "      <td>0.002206</td>\n",
       "      <td>0.003989</td>\n",
       "      <td>-0.004586</td>\n",
       "      <td>-0.002981</td>\n",
       "    </tr>\n",
       "    <tr>\n",
       "      <th>video_view_count</th>\n",
       "      <td>-0.697007</td>\n",
       "      <td>0.002554</td>\n",
       "      <td>0.013589</td>\n",
       "      <td>1.000000</td>\n",
       "      <td>0.832832</td>\n",
       "      <td>0.711313</td>\n",
       "      <td>0.690048</td>\n",
       "      <td>0.583485</td>\n",
       "      <td>0.244693</td>\n",
       "    </tr>\n",
       "    <tr>\n",
       "      <th>video_like_count</th>\n",
       "      <td>-0.581483</td>\n",
       "      <td>0.006507</td>\n",
       "      <td>0.004890</td>\n",
       "      <td>0.832832</td>\n",
       "      <td>1.000000</td>\n",
       "      <td>0.850053</td>\n",
       "      <td>0.828082</td>\n",
       "      <td>0.706140</td>\n",
       "      <td>0.202386</td>\n",
       "    </tr>\n",
       "    <tr>\n",
       "      <th>video_share_count</th>\n",
       "      <td>-0.504015</td>\n",
       "      <td>0.010515</td>\n",
       "      <td>0.002206</td>\n",
       "      <td>0.711313</td>\n",
       "      <td>0.850053</td>\n",
       "      <td>1.000000</td>\n",
       "      <td>0.710117</td>\n",
       "      <td>0.620182</td>\n",
       "      <td>0.171651</td>\n",
       "    </tr>\n",
       "    <tr>\n",
       "      <th>video_download_count</th>\n",
       "      <td>-0.487096</td>\n",
       "      <td>0.008753</td>\n",
       "      <td>0.003989</td>\n",
       "      <td>0.690048</td>\n",
       "      <td>0.828082</td>\n",
       "      <td>0.710117</td>\n",
       "      <td>1.000000</td>\n",
       "      <td>0.857679</td>\n",
       "      <td>0.173396</td>\n",
       "    </tr>\n",
       "    <tr>\n",
       "      <th>video_comment_count</th>\n",
       "      <td>-0.413799</td>\n",
       "      <td>0.013983</td>\n",
       "      <td>-0.004586</td>\n",
       "      <td>0.583485</td>\n",
       "      <td>0.706140</td>\n",
       "      <td>0.620182</td>\n",
       "      <td>0.857679</td>\n",
       "      <td>1.000000</td>\n",
       "      <td>0.149750</td>\n",
       "    </tr>\n",
       "    <tr>\n",
       "      <th>video_text_length</th>\n",
       "      <td>-0.193677</td>\n",
       "      <td>-0.007083</td>\n",
       "      <td>-0.002981</td>\n",
       "      <td>0.244693</td>\n",
       "      <td>0.202386</td>\n",
       "      <td>0.171651</td>\n",
       "      <td>0.173396</td>\n",
       "      <td>0.149750</td>\n",
       "      <td>1.000000</td>\n",
       "    </tr>\n",
       "  </tbody>\n",
       "</table>\n",
       "</div>"
      ],
      "text/plain": [
       "                             #  video_id  video_duration_sec  \\\n",
       "#                     1.000000 -0.000853           -0.011729   \n",
       "video_id             -0.000853  1.000000            0.011859   \n",
       "video_duration_sec   -0.011729  0.011859            1.000000   \n",
       "video_view_count     -0.697007  0.002554            0.013589   \n",
       "video_like_count     -0.581483  0.006507            0.004890   \n",
       "video_share_count    -0.504015  0.010515            0.002206   \n",
       "video_download_count -0.487096  0.008753            0.003989   \n",
       "video_comment_count  -0.413799  0.013983           -0.004586   \n",
       "video_text_length    -0.193677 -0.007083           -0.002981   \n",
       "\n",
       "                      video_view_count  video_like_count  video_share_count  \\\n",
       "#                            -0.697007         -0.581483          -0.504015   \n",
       "video_id                      0.002554          0.006507           0.010515   \n",
       "video_duration_sec            0.013589          0.004890           0.002206   \n",
       "video_view_count              1.000000          0.832832           0.711313   \n",
       "video_like_count              0.832832          1.000000           0.850053   \n",
       "video_share_count             0.711313          0.850053           1.000000   \n",
       "video_download_count          0.690048          0.828082           0.710117   \n",
       "video_comment_count           0.583485          0.706140           0.620182   \n",
       "video_text_length             0.244693          0.202386           0.171651   \n",
       "\n",
       "                      video_download_count  video_comment_count  \\\n",
       "#                                -0.487096            -0.413799   \n",
       "video_id                          0.008753             0.013983   \n",
       "video_duration_sec                0.003989            -0.004586   \n",
       "video_view_count                  0.690048             0.583485   \n",
       "video_like_count                  0.828082             0.706140   \n",
       "video_share_count                 0.710117             0.620182   \n",
       "video_download_count              1.000000             0.857679   \n",
       "video_comment_count               0.857679             1.000000   \n",
       "video_text_length                 0.173396             0.149750   \n",
       "\n",
       "                      video_text_length  \n",
       "#                             -0.193677  \n",
       "video_id                      -0.007083  \n",
       "video_duration_sec            -0.002981  \n",
       "video_view_count               0.244693  \n",
       "video_like_count               0.202386  \n",
       "video_share_count              0.171651  \n",
       "video_download_count           0.173396  \n",
       "video_comment_count            0.149750  \n",
       "video_text_length              1.000000  "
      ]
     },
     "execution_count": 24,
     "metadata": {},
     "output_type": "execute_result"
    }
   ],
   "source": [
    "# Correlation matrix to determine most correlated variables\n",
    "data_upsample.corr(numeric_only = True)"
   ]
  },
  {
   "cell_type": "code",
   "execution_count": 25,
   "metadata": {
    "id": "8Ti_MFF7tekR"
   },
   "outputs": [
    {
     "data": {
      "image/png": "[encoded data removed]",
      "text/plain": [
       "<Figure size 800x600 with 2 Axes>"
      ]
     },
     "metadata": {},
     "output_type": "display_data"
    }
   ],
   "source": [
    "# Heatmap to visualize correlation among variables ---  logistic regression  assumes no severe multicollinearity among the features\n",
    "\n",
    "plt.figure(figsize = (8,6))\n",
    "sns.heatmap(data_upsample[['video_duration_sec', 'video_view_count', 'video_like_count', 'video_share_count',\n",
    "                          'video_download_count', 'video_comment_count', 'video_text_length', \n",
    "                           'claim_status', 'author_ban_status']].corr(numeric_only = True), \n",
    "            annot = True, fmt = '.3f', linewidth = 0.7)\n",
    "plt.title('Heatmap of Correlation in Dataset')\n",
    "\n",
    "plt.savefig(\"Correlation-Heatmap.png\", dpi = 300, bbox_inches = 'tight')\n",
    "plt.show()"
   ]
  },
  {
   "cell_type": "markdown",
   "metadata": {
    "id": "zyQgcrDI00bT"
   },
   "source": [
    "**Remarks:**\n",
    "\n",
    "The heatmap (above) displays that following pairs are strongly correlated: \n",
    "- 'video_comment_count' and 'video_download_count'\n",
    "- 'video_like_count' and 'video_share_count'\n",
    "\n",
    "To meet **no severe multicollinearity** assumption, 'video_download_count' and 'video_share_count' can be excluded. \n",
    "'Video_view_count', 'video_like_count', and 'video_comment_count' can be kept as variables that quantify video metrics.\n",
    "\n",
    "And, 'video_view_count', 'video_share_count', and 'video_download_count' can be 2nd variable groups. "
   ]
  },
  {
   "cell_type": "markdown",
   "metadata": {
    "id": "07UJJm41ajgf"
   },
   "source": [
    "### Selecting Variables"
   ]
  },
  {
   "cell_type": "code",
   "execution_count": 26,
   "metadata": {},
   "outputs": [
    {
     "data": {
      "text/html": [
       "<div>\n",
       "<style scoped>\n",
       "    .dataframe tbody tr th:only-of-type {\n",
       "        vertical-align: middle;\n",
       "    }\n",
       "\n",
       "    .dataframe tbody tr th {\n",
       "        vertical-align: top;\n",
       "    }\n",
       "\n",
       "    .dataframe thead th {\n",
       "        text-align: right;\n",
       "    }\n",
       "</style>\n",
       "<table border=\"1\" class=\"dataframe\">\n",
       "  <thead>\n",
       "    <tr style=\"text-align: right;\">\n",
       "      <th></th>\n",
       "      <th>video_duration_sec</th>\n",
       "      <th>verified_status</th>\n",
       "      <th>claim_status</th>\n",
       "      <th>author_ban_status</th>\n",
       "      <th>video_view_count</th>\n",
       "      <th>video_like_count</th>\n",
       "      <th>video_comment_count</th>\n",
       "    </tr>\n",
       "  </thead>\n",
       "  <tbody>\n",
       "    <tr>\n",
       "      <th>0</th>\n",
       "      <td>59</td>\n",
       "      <td>not verified</td>\n",
       "      <td>claim</td>\n",
       "      <td>under review</td>\n",
       "      <td>343296.0</td>\n",
       "      <td>19425.0</td>\n",
       "      <td>0.0</td>\n",
       "    </tr>\n",
       "    <tr>\n",
       "      <th>1</th>\n",
       "      <td>32</td>\n",
       "      <td>not verified</td>\n",
       "      <td>claim</td>\n",
       "      <td>active</td>\n",
       "      <td>140877.0</td>\n",
       "      <td>77355.0</td>\n",
       "      <td>684.0</td>\n",
       "    </tr>\n",
       "    <tr>\n",
       "      <th>2</th>\n",
       "      <td>31</td>\n",
       "      <td>not verified</td>\n",
       "      <td>claim</td>\n",
       "      <td>active</td>\n",
       "      <td>902185.0</td>\n",
       "      <td>97690.0</td>\n",
       "      <td>329.0</td>\n",
       "    </tr>\n",
       "    <tr>\n",
       "      <th>3</th>\n",
       "      <td>25</td>\n",
       "      <td>not verified</td>\n",
       "      <td>claim</td>\n",
       "      <td>active</td>\n",
       "      <td>437506.0</td>\n",
       "      <td>239954.0</td>\n",
       "      <td>584.0</td>\n",
       "    </tr>\n",
       "    <tr>\n",
       "      <th>4</th>\n",
       "      <td>19</td>\n",
       "      <td>not verified</td>\n",
       "      <td>claim</td>\n",
       "      <td>active</td>\n",
       "      <td>56167.0</td>\n",
       "      <td>34987.0</td>\n",
       "      <td>152.0</td>\n",
       "    </tr>\n",
       "    <tr>\n",
       "      <th>...</th>\n",
       "      <td>...</td>\n",
       "      <td>...</td>\n",
       "      <td>...</td>\n",
       "      <td>...</td>\n",
       "      <td>...</td>\n",
       "      <td>...</td>\n",
       "      <td>...</td>\n",
       "    </tr>\n",
       "    <tr>\n",
       "      <th>35763</th>\n",
       "      <td>42</td>\n",
       "      <td>verified</td>\n",
       "      <td>claim</td>\n",
       "      <td>active</td>\n",
       "      <td>993273.0</td>\n",
       "      <td>294351.0</td>\n",
       "      <td>62.0</td>\n",
       "    </tr>\n",
       "    <tr>\n",
       "      <th>35764</th>\n",
       "      <td>55</td>\n",
       "      <td>verified</td>\n",
       "      <td>opinion</td>\n",
       "      <td>active</td>\n",
       "      <td>6688.0</td>\n",
       "      <td>2431.0</td>\n",
       "      <td>3.0</td>\n",
       "    </tr>\n",
       "    <tr>\n",
       "      <th>35765</th>\n",
       "      <td>39</td>\n",
       "      <td>verified</td>\n",
       "      <td>opinion</td>\n",
       "      <td>active</td>\n",
       "      <td>5009.0</td>\n",
       "      <td>1418.0</td>\n",
       "      <td>0.0</td>\n",
       "    </tr>\n",
       "    <tr>\n",
       "      <th>35766</th>\n",
       "      <td>16</td>\n",
       "      <td>verified</td>\n",
       "      <td>opinion</td>\n",
       "      <td>active</td>\n",
       "      <td>921.0</td>\n",
       "      <td>55.0</td>\n",
       "      <td>0.0</td>\n",
       "    </tr>\n",
       "    <tr>\n",
       "      <th>35767</th>\n",
       "      <td>50</td>\n",
       "      <td>verified</td>\n",
       "      <td>opinion</td>\n",
       "      <td>active</td>\n",
       "      <td>6478.0</td>\n",
       "      <td>1897.0</td>\n",
       "      <td>0.0</td>\n",
       "    </tr>\n",
       "  </tbody>\n",
       "</table>\n",
       "<p>35768 rows × 7 columns</p>\n",
       "</div>"
      ],
      "text/plain": [
       "       video_duration_sec verified_status claim_status author_ban_status  \\\n",
       "0                      59    not verified        claim      under review   \n",
       "1                      32    not verified        claim            active   \n",
       "2                      31    not verified        claim            active   \n",
       "3                      25    not verified        claim            active   \n",
       "4                      19    not verified        claim            active   \n",
       "...                   ...             ...          ...               ...   \n",
       "35763                  42        verified        claim            active   \n",
       "35764                  55        verified      opinion            active   \n",
       "35765                  39        verified      opinion            active   \n",
       "35766                  16        verified      opinion            active   \n",
       "35767                  50        verified      opinion            active   \n",
       "\n",
       "       video_view_count  video_like_count  video_comment_count  \n",
       "0              343296.0           19425.0                  0.0  \n",
       "1              140877.0           77355.0                684.0  \n",
       "2              902185.0           97690.0                329.0  \n",
       "3              437506.0          239954.0                584.0  \n",
       "4               56167.0           34987.0                152.0  \n",
       "...                 ...               ...                  ...  \n",
       "35763          993273.0          294351.0                 62.0  \n",
       "35764            6688.0            2431.0                  3.0  \n",
       "35765            5009.0            1418.0                  0.0  \n",
       "35766             921.0              55.0                  0.0  \n",
       "35767            6478.0            1897.0                  0.0  \n",
       "\n",
       "[35768 rows x 7 columns]"
      ]
     },
     "execution_count": 26,
     "metadata": {},
     "output_type": "execute_result"
    }
   ],
   "source": [
    "df_subset1 = data_upsample[['video_duration_sec', 'verified_status', 'claim_status', 'author_ban_status',\n",
    "                             'video_view_count', 'video_like_count', 'video_comment_count']]\n",
    "df_subset1"
   ]
  },
  {
   "cell_type": "code",
   "execution_count": 27,
   "metadata": {
    "scrolled": true
   },
   "outputs": [
    {
     "data": {
      "text/plain": [
       "video_duration_sec       int64\n",
       "verified_status         object\n",
       "claim_status            object\n",
       "author_ban_status       object\n",
       "video_view_count       float64\n",
       "video_like_count       float64\n",
       "video_comment_count    float64\n",
       "dtype: object"
      ]
     },
     "execution_count": 27,
     "metadata": {},
     "output_type": "execute_result"
    }
   ],
   "source": [
    "df_subset1.dtypes"
   ]
  },
  {
   "cell_type": "markdown",
   "metadata": {},
   "source": [
    "- **Dependent variable 'verified_status' cannot have object data type.**\n",
    "- To create model's plot (sns.regplot) for visualization later, the independent variable 'video_duration_sec' cannot integer.\n",
    "- Also, variables claim_status and author_ban_status cannot have object data type."
   ]
  },
  {
   "cell_type": "code",
   "execution_count": 28,
   "metadata": {},
   "outputs": [],
   "source": [
    "df_subset1 = df_subset1.astype({'video_duration_sec': float})"
   ]
  },
  {
   "cell_type": "code",
   "execution_count": 29,
   "metadata": {},
   "outputs": [
    {
     "data": {
      "text/plain": [
       "video_duration_sec     float64\n",
       "verified_status         object\n",
       "claim_status            object\n",
       "author_ban_status       object\n",
       "video_view_count       float64\n",
       "video_like_count       float64\n",
       "video_comment_count    float64\n",
       "dtype: object"
      ]
     },
     "execution_count": 29,
     "metadata": {},
     "output_type": "execute_result"
    }
   ],
   "source": [
    "df_subset1.dtypes"
   ]
  },
  {
   "cell_type": "code",
   "execution_count": 30,
   "metadata": {},
   "outputs": [],
   "source": [
    "df_subset1['verified_status'] = OneHotEncoder(drop = 'first').fit_transform(\n",
    "    df_subset1[['verified_status']]).toarray()"
   ]
  },
  {
   "cell_type": "code",
   "execution_count": 31,
   "metadata": {},
   "outputs": [
    {
     "data": {
      "text/html": [
       "<div>\n",
       "<style scoped>\n",
       "    .dataframe tbody tr th:only-of-type {\n",
       "        vertical-align: middle;\n",
       "    }\n",
       "\n",
       "    .dataframe tbody tr th {\n",
       "        vertical-align: top;\n",
       "    }\n",
       "\n",
       "    .dataframe thead th {\n",
       "        text-align: right;\n",
       "    }\n",
       "</style>\n",
       "<table border=\"1\" class=\"dataframe\">\n",
       "  <thead>\n",
       "    <tr style=\"text-align: right;\">\n",
       "      <th></th>\n",
       "      <th>video_duration_sec</th>\n",
       "      <th>verified_status</th>\n",
       "      <th>claim_status</th>\n",
       "      <th>author_ban_status</th>\n",
       "      <th>video_view_count</th>\n",
       "      <th>video_like_count</th>\n",
       "      <th>video_comment_count</th>\n",
       "    </tr>\n",
       "  </thead>\n",
       "  <tbody>\n",
       "    <tr>\n",
       "      <th>0</th>\n",
       "      <td>59.0</td>\n",
       "      <td>0.0</td>\n",
       "      <td>claim</td>\n",
       "      <td>under review</td>\n",
       "      <td>343296.0</td>\n",
       "      <td>19425.0</td>\n",
       "      <td>0.0</td>\n",
       "    </tr>\n",
       "    <tr>\n",
       "      <th>1</th>\n",
       "      <td>32.0</td>\n",
       "      <td>0.0</td>\n",
       "      <td>claim</td>\n",
       "      <td>active</td>\n",
       "      <td>140877.0</td>\n",
       "      <td>77355.0</td>\n",
       "      <td>684.0</td>\n",
       "    </tr>\n",
       "    <tr>\n",
       "      <th>2</th>\n",
       "      <td>31.0</td>\n",
       "      <td>0.0</td>\n",
       "      <td>claim</td>\n",
       "      <td>active</td>\n",
       "      <td>902185.0</td>\n",
       "      <td>97690.0</td>\n",
       "      <td>329.0</td>\n",
       "    </tr>\n",
       "    <tr>\n",
       "      <th>3</th>\n",
       "      <td>25.0</td>\n",
       "      <td>0.0</td>\n",
       "      <td>claim</td>\n",
       "      <td>active</td>\n",
       "      <td>437506.0</td>\n",
       "      <td>239954.0</td>\n",
       "      <td>584.0</td>\n",
       "    </tr>\n",
       "    <tr>\n",
       "      <th>4</th>\n",
       "      <td>19.0</td>\n",
       "      <td>0.0</td>\n",
       "      <td>claim</td>\n",
       "      <td>active</td>\n",
       "      <td>56167.0</td>\n",
       "      <td>34987.0</td>\n",
       "      <td>152.0</td>\n",
       "    </tr>\n",
       "  </tbody>\n",
       "</table>\n",
       "</div>"
      ],
      "text/plain": [
       "   video_duration_sec  verified_status claim_status author_ban_status  \\\n",
       "0                59.0              0.0        claim      under review   \n",
       "1                32.0              0.0        claim            active   \n",
       "2                31.0              0.0        claim            active   \n",
       "3                25.0              0.0        claim            active   \n",
       "4                19.0              0.0        claim            active   \n",
       "\n",
       "   video_view_count  video_like_count  video_comment_count  \n",
       "0          343296.0           19425.0                  0.0  \n",
       "1          140877.0           77355.0                684.0  \n",
       "2          902185.0           97690.0                329.0  \n",
       "3          437506.0          239954.0                584.0  \n",
       "4           56167.0           34987.0                152.0  "
      ]
     },
     "execution_count": 31,
     "metadata": {},
     "output_type": "execute_result"
    }
   ],
   "source": [
    "df_subset1.head()"
   ]
  },
  {
   "cell_type": "code",
   "execution_count": 32,
   "metadata": {},
   "outputs": [],
   "source": [
    "# Selecting outcome variable\n",
    "y = df_subset1['verified_status']"
   ]
  },
  {
   "cell_type": "code",
   "execution_count": 33,
   "metadata": {},
   "outputs": [
    {
     "data": {
      "text/html": [
       "<div>\n",
       "<style scoped>\n",
       "    .dataframe tbody tr th:only-of-type {\n",
       "        vertical-align: middle;\n",
       "    }\n",
       "\n",
       "    .dataframe tbody tr th {\n",
       "        vertical-align: top;\n",
       "    }\n",
       "\n",
       "    .dataframe thead th {\n",
       "        text-align: right;\n",
       "    }\n",
       "</style>\n",
       "<table border=\"1\" class=\"dataframe\">\n",
       "  <thead>\n",
       "    <tr style=\"text-align: right;\">\n",
       "      <th></th>\n",
       "      <th>video_duration_sec</th>\n",
       "      <th>claim_status</th>\n",
       "      <th>author_ban_status</th>\n",
       "      <th>video_view_count</th>\n",
       "      <th>video_like_count</th>\n",
       "      <th>video_comment_count</th>\n",
       "    </tr>\n",
       "  </thead>\n",
       "  <tbody>\n",
       "    <tr>\n",
       "      <th>0</th>\n",
       "      <td>59.0</td>\n",
       "      <td>claim</td>\n",
       "      <td>under review</td>\n",
       "      <td>343296.0</td>\n",
       "      <td>19425.0</td>\n",
       "      <td>0.0</td>\n",
       "    </tr>\n",
       "    <tr>\n",
       "      <th>1</th>\n",
       "      <td>32.0</td>\n",
       "      <td>claim</td>\n",
       "      <td>active</td>\n",
       "      <td>140877.0</td>\n",
       "      <td>77355.0</td>\n",
       "      <td>684.0</td>\n",
       "    </tr>\n",
       "    <tr>\n",
       "      <th>2</th>\n",
       "      <td>31.0</td>\n",
       "      <td>claim</td>\n",
       "      <td>active</td>\n",
       "      <td>902185.0</td>\n",
       "      <td>97690.0</td>\n",
       "      <td>329.0</td>\n",
       "    </tr>\n",
       "    <tr>\n",
       "      <th>3</th>\n",
       "      <td>25.0</td>\n",
       "      <td>claim</td>\n",
       "      <td>active</td>\n",
       "      <td>437506.0</td>\n",
       "      <td>239954.0</td>\n",
       "      <td>584.0</td>\n",
       "    </tr>\n",
       "    <tr>\n",
       "      <th>4</th>\n",
       "      <td>19.0</td>\n",
       "      <td>claim</td>\n",
       "      <td>active</td>\n",
       "      <td>56167.0</td>\n",
       "      <td>34987.0</td>\n",
       "      <td>152.0</td>\n",
       "    </tr>\n",
       "  </tbody>\n",
       "</table>\n",
       "</div>"
      ],
      "text/plain": [
       "   video_duration_sec claim_status author_ban_status  video_view_count  \\\n",
       "0                59.0        claim      under review          343296.0   \n",
       "1                32.0        claim            active          140877.0   \n",
       "2                31.0        claim            active          902185.0   \n",
       "3                25.0        claim            active          437506.0   \n",
       "4                19.0        claim            active           56167.0   \n",
       "\n",
       "   video_like_count  video_comment_count  \n",
       "0           19425.0                  0.0  \n",
       "1           77355.0                684.0  \n",
       "2           97690.0                329.0  \n",
       "3          239954.0                584.0  \n",
       "4           34987.0                152.0  "
      ]
     },
     "execution_count": 33,
     "metadata": {},
     "output_type": "execute_result"
    }
   ],
   "source": [
    "# Selecting independent variables\n",
    "X = df_subset1[['video_duration_sec', 'claim_status', 'author_ban_status',\n",
    "                  'video_view_count', 'video_like_count', 'video_comment_count']]\n",
    "\n",
    "X.head()"
   ]
  },
  {
   "cell_type": "code",
   "execution_count": 34,
   "metadata": {},
   "outputs": [
    {
     "data": {
      "text/html": [
       "<div>\n",
       "<style scoped>\n",
       "    .dataframe tbody tr th:only-of-type {\n",
       "        vertical-align: middle;\n",
       "    }\n",
       "\n",
       "    .dataframe tbody tr th {\n",
       "        vertical-align: top;\n",
       "    }\n",
       "\n",
       "    .dataframe thead th {\n",
       "        text-align: right;\n",
       "    }\n",
       "</style>\n",
       "<table border=\"1\" class=\"dataframe\">\n",
       "  <thead>\n",
       "    <tr style=\"text-align: right;\">\n",
       "      <th></th>\n",
       "      <th>claim_status</th>\n",
       "      <th>author_ban_status</th>\n",
       "    </tr>\n",
       "  </thead>\n",
       "  <tbody>\n",
       "    <tr>\n",
       "      <th>0</th>\n",
       "      <td>claim</td>\n",
       "      <td>under review</td>\n",
       "    </tr>\n",
       "    <tr>\n",
       "      <th>1</th>\n",
       "      <td>claim</td>\n",
       "      <td>active</td>\n",
       "    </tr>\n",
       "    <tr>\n",
       "      <th>2</th>\n",
       "      <td>claim</td>\n",
       "      <td>active</td>\n",
       "    </tr>\n",
       "    <tr>\n",
       "      <th>3</th>\n",
       "      <td>claim</td>\n",
       "      <td>active</td>\n",
       "    </tr>\n",
       "    <tr>\n",
       "      <th>4</th>\n",
       "      <td>claim</td>\n",
       "      <td>active</td>\n",
       "    </tr>\n",
       "    <tr>\n",
       "      <th>...</th>\n",
       "      <td>...</td>\n",
       "      <td>...</td>\n",
       "    </tr>\n",
       "    <tr>\n",
       "      <th>35763</th>\n",
       "      <td>claim</td>\n",
       "      <td>active</td>\n",
       "    </tr>\n",
       "    <tr>\n",
       "      <th>35764</th>\n",
       "      <td>opinion</td>\n",
       "      <td>active</td>\n",
       "    </tr>\n",
       "    <tr>\n",
       "      <th>35765</th>\n",
       "      <td>opinion</td>\n",
       "      <td>active</td>\n",
       "    </tr>\n",
       "    <tr>\n",
       "      <th>35766</th>\n",
       "      <td>opinion</td>\n",
       "      <td>active</td>\n",
       "    </tr>\n",
       "    <tr>\n",
       "      <th>35767</th>\n",
       "      <td>opinion</td>\n",
       "      <td>active</td>\n",
       "    </tr>\n",
       "  </tbody>\n",
       "</table>\n",
       "<p>35768 rows × 2 columns</p>\n",
       "</div>"
      ],
      "text/plain": [
       "      claim_status author_ban_status\n",
       "0            claim      under review\n",
       "1            claim            active\n",
       "2            claim            active\n",
       "3            claim            active\n",
       "4            claim            active\n",
       "...            ...               ...\n",
       "35763        claim            active\n",
       "35764      opinion            active\n",
       "35765      opinion            active\n",
       "35766      opinion            active\n",
       "35767      opinion            active\n",
       "\n",
       "[35768 rows x 2 columns]"
      ]
     },
     "execution_count": 34,
     "metadata": {},
     "output_type": "execute_result"
    }
   ],
   "source": [
    "X_to_encode = X[['claim_status', 'author_ban_status']]\n",
    "X_to_encode "
   ]
  },
  {
   "cell_type": "code",
   "execution_count": 35,
   "metadata": {},
   "outputs": [],
   "source": [
    "# Setting up encoder for one-hot encoding \n",
    "\n",
    "X_encoder = OneHotEncoder(drop = 'first', sparse_output = False)"
   ]
  },
  {
   "cell_type": "code",
   "execution_count": 36,
   "metadata": {},
   "outputs": [],
   "source": [
    "X_encoded = X_encoder.fit_transform(X_to_encode)"
   ]
  },
  {
   "cell_type": "code",
   "execution_count": 37,
   "metadata": {},
   "outputs": [
    {
     "data": {
      "text/plain": [
       "array([[0., 0., 1.],\n",
       "       [0., 0., 0.],\n",
       "       [0., 0., 0.],\n",
       "       ...,\n",
       "       [1., 0., 0.],\n",
       "       [1., 0., 0.],\n",
       "       [1., 0., 0.]])"
      ]
     },
     "execution_count": 37,
     "metadata": {},
     "output_type": "execute_result"
    }
   ],
   "source": [
    "X_encoded"
   ]
  },
  {
   "cell_type": "code",
   "execution_count": 38,
   "metadata": {},
   "outputs": [
    {
     "data": {
      "text/plain": [
       "array(['claim_status_opinion', 'author_ban_status_banned',\n",
       "       'author_ban_status_under review'], dtype=object)"
      ]
     },
     "execution_count": 38,
     "metadata": {},
     "output_type": "execute_result"
    }
   ],
   "source": [
    "X_encoder.get_feature_names_out()"
   ]
  },
  {
   "cell_type": "code",
   "execution_count": 39,
   "metadata": {
    "scrolled": true
   },
   "outputs": [
    {
     "data": {
      "text/html": [
       "<div>\n",
       "<style scoped>\n",
       "    .dataframe tbody tr th:only-of-type {\n",
       "        vertical-align: middle;\n",
       "    }\n",
       "\n",
       "    .dataframe tbody tr th {\n",
       "        vertical-align: top;\n",
       "    }\n",
       "\n",
       "    .dataframe thead th {\n",
       "        text-align: right;\n",
       "    }\n",
       "</style>\n",
       "<table border=\"1\" class=\"dataframe\">\n",
       "  <thead>\n",
       "    <tr style=\"text-align: right;\">\n",
       "      <th></th>\n",
       "      <th>claim_status_opinion</th>\n",
       "      <th>author_ban_status_banned</th>\n",
       "      <th>author_ban_status_under review</th>\n",
       "    </tr>\n",
       "  </thead>\n",
       "  <tbody>\n",
       "    <tr>\n",
       "      <th>0</th>\n",
       "      <td>0.0</td>\n",
       "      <td>0.0</td>\n",
       "      <td>1.0</td>\n",
       "    </tr>\n",
       "    <tr>\n",
       "      <th>1</th>\n",
       "      <td>0.0</td>\n",
       "      <td>0.0</td>\n",
       "      <td>0.0</td>\n",
       "    </tr>\n",
       "    <tr>\n",
       "      <th>2</th>\n",
       "      <td>0.0</td>\n",
       "      <td>0.0</td>\n",
       "      <td>0.0</td>\n",
       "    </tr>\n",
       "    <tr>\n",
       "      <th>3</th>\n",
       "      <td>0.0</td>\n",
       "      <td>0.0</td>\n",
       "      <td>0.0</td>\n",
       "    </tr>\n",
       "    <tr>\n",
       "      <th>4</th>\n",
       "      <td>0.0</td>\n",
       "      <td>0.0</td>\n",
       "      <td>0.0</td>\n",
       "    </tr>\n",
       "    <tr>\n",
       "      <th>5</th>\n",
       "      <td>0.0</td>\n",
       "      <td>0.0</td>\n",
       "      <td>1.0</td>\n",
       "    </tr>\n",
       "    <tr>\n",
       "      <th>6</th>\n",
       "      <td>0.0</td>\n",
       "      <td>0.0</td>\n",
       "      <td>0.0</td>\n",
       "    </tr>\n",
       "    <tr>\n",
       "      <th>7</th>\n",
       "      <td>0.0</td>\n",
       "      <td>0.0</td>\n",
       "      <td>0.0</td>\n",
       "    </tr>\n",
       "    <tr>\n",
       "      <th>8</th>\n",
       "      <td>0.0</td>\n",
       "      <td>0.0</td>\n",
       "      <td>0.0</td>\n",
       "    </tr>\n",
       "    <tr>\n",
       "      <th>9</th>\n",
       "      <td>0.0</td>\n",
       "      <td>0.0</td>\n",
       "      <td>0.0</td>\n",
       "    </tr>\n",
       "  </tbody>\n",
       "</table>\n",
       "</div>"
      ],
      "text/plain": [
       "   claim_status_opinion  author_ban_status_banned  \\\n",
       "0                   0.0                       0.0   \n",
       "1                   0.0                       0.0   \n",
       "2                   0.0                       0.0   \n",
       "3                   0.0                       0.0   \n",
       "4                   0.0                       0.0   \n",
       "5                   0.0                       0.0   \n",
       "6                   0.0                       0.0   \n",
       "7                   0.0                       0.0   \n",
       "8                   0.0                       0.0   \n",
       "9                   0.0                       0.0   \n",
       "\n",
       "   author_ban_status_under review  \n",
       "0                             1.0  \n",
       "1                             0.0  \n",
       "2                             0.0  \n",
       "3                             0.0  \n",
       "4                             0.0  \n",
       "5                             1.0  \n",
       "6                             0.0  \n",
       "7                             0.0  \n",
       "8                             0.0  \n",
       "9                             0.0  "
      ]
     },
     "execution_count": 39,
     "metadata": {},
     "output_type": "execute_result"
    }
   ],
   "source": [
    "X_encoded_df = pd.DataFrame(data = X_encoded, columns = X_encoder.get_feature_names_out())\n",
    "X_encoded_df.head(10)"
   ]
  },
  {
   "cell_type": "code",
   "execution_count": 40,
   "metadata": {
    "scrolled": false
   },
   "outputs": [
    {
     "data": {
      "text/html": [
       "<div>\n",
       "<style scoped>\n",
       "    .dataframe tbody tr th:only-of-type {\n",
       "        vertical-align: middle;\n",
       "    }\n",
       "\n",
       "    .dataframe tbody tr th {\n",
       "        vertical-align: top;\n",
       "    }\n",
       "\n",
       "    .dataframe thead th {\n",
       "        text-align: right;\n",
       "    }\n",
       "</style>\n",
       "<table border=\"1\" class=\"dataframe\">\n",
       "  <thead>\n",
       "    <tr style=\"text-align: right;\">\n",
       "      <th></th>\n",
       "      <th>video_duration_sec</th>\n",
       "      <th>claim_status</th>\n",
       "      <th>author_ban_status</th>\n",
       "      <th>video_view_count</th>\n",
       "      <th>video_like_count</th>\n",
       "      <th>video_comment_count</th>\n",
       "    </tr>\n",
       "  </thead>\n",
       "  <tbody>\n",
       "    <tr>\n",
       "      <th>0</th>\n",
       "      <td>59.0</td>\n",
       "      <td>claim</td>\n",
       "      <td>under review</td>\n",
       "      <td>343296.0</td>\n",
       "      <td>19425.0</td>\n",
       "      <td>0.0</td>\n",
       "    </tr>\n",
       "    <tr>\n",
       "      <th>1</th>\n",
       "      <td>32.0</td>\n",
       "      <td>claim</td>\n",
       "      <td>active</td>\n",
       "      <td>140877.0</td>\n",
       "      <td>77355.0</td>\n",
       "      <td>684.0</td>\n",
       "    </tr>\n",
       "    <tr>\n",
       "      <th>2</th>\n",
       "      <td>31.0</td>\n",
       "      <td>claim</td>\n",
       "      <td>active</td>\n",
       "      <td>902185.0</td>\n",
       "      <td>97690.0</td>\n",
       "      <td>329.0</td>\n",
       "    </tr>\n",
       "    <tr>\n",
       "      <th>3</th>\n",
       "      <td>25.0</td>\n",
       "      <td>claim</td>\n",
       "      <td>active</td>\n",
       "      <td>437506.0</td>\n",
       "      <td>239954.0</td>\n",
       "      <td>584.0</td>\n",
       "    </tr>\n",
       "    <tr>\n",
       "      <th>4</th>\n",
       "      <td>19.0</td>\n",
       "      <td>claim</td>\n",
       "      <td>active</td>\n",
       "      <td>56167.0</td>\n",
       "      <td>34987.0</td>\n",
       "      <td>152.0</td>\n",
       "    </tr>\n",
       "    <tr>\n",
       "      <th>...</th>\n",
       "      <td>...</td>\n",
       "      <td>...</td>\n",
       "      <td>...</td>\n",
       "      <td>...</td>\n",
       "      <td>...</td>\n",
       "      <td>...</td>\n",
       "    </tr>\n",
       "    <tr>\n",
       "      <th>35763</th>\n",
       "      <td>42.0</td>\n",
       "      <td>claim</td>\n",
       "      <td>active</td>\n",
       "      <td>993273.0</td>\n",
       "      <td>294351.0</td>\n",
       "      <td>62.0</td>\n",
       "    </tr>\n",
       "    <tr>\n",
       "      <th>35764</th>\n",
       "      <td>55.0</td>\n",
       "      <td>opinion</td>\n",
       "      <td>active</td>\n",
       "      <td>6688.0</td>\n",
       "      <td>2431.0</td>\n",
       "      <td>3.0</td>\n",
       "    </tr>\n",
       "    <tr>\n",
       "      <th>35765</th>\n",
       "      <td>39.0</td>\n",
       "      <td>opinion</td>\n",
       "      <td>active</td>\n",
       "      <td>5009.0</td>\n",
       "      <td>1418.0</td>\n",
       "      <td>0.0</td>\n",
       "    </tr>\n",
       "    <tr>\n",
       "      <th>35766</th>\n",
       "      <td>16.0</td>\n",
       "      <td>opinion</td>\n",
       "      <td>active</td>\n",
       "      <td>921.0</td>\n",
       "      <td>55.0</td>\n",
       "      <td>0.0</td>\n",
       "    </tr>\n",
       "    <tr>\n",
       "      <th>35767</th>\n",
       "      <td>50.0</td>\n",
       "      <td>opinion</td>\n",
       "      <td>active</td>\n",
       "      <td>6478.0</td>\n",
       "      <td>1897.0</td>\n",
       "      <td>0.0</td>\n",
       "    </tr>\n",
       "  </tbody>\n",
       "</table>\n",
       "<p>35768 rows × 6 columns</p>\n",
       "</div>"
      ],
      "text/plain": [
       "       video_duration_sec claim_status author_ban_status  video_view_count  \\\n",
       "0                    59.0        claim      under review          343296.0   \n",
       "1                    32.0        claim            active          140877.0   \n",
       "2                    31.0        claim            active          902185.0   \n",
       "3                    25.0        claim            active          437506.0   \n",
       "4                    19.0        claim            active           56167.0   \n",
       "...                   ...          ...               ...               ...   \n",
       "35763                42.0        claim            active          993273.0   \n",
       "35764                55.0      opinion            active            6688.0   \n",
       "35765                39.0      opinion            active            5009.0   \n",
       "35766                16.0      opinion            active             921.0   \n",
       "35767                50.0      opinion            active            6478.0   \n",
       "\n",
       "       video_like_count  video_comment_count  \n",
       "0               19425.0                  0.0  \n",
       "1               77355.0                684.0  \n",
       "2               97690.0                329.0  \n",
       "3              239954.0                584.0  \n",
       "4               34987.0                152.0  \n",
       "...                 ...                  ...  \n",
       "35763          294351.0                 62.0  \n",
       "35764            2431.0                  3.0  \n",
       "35765            1418.0                  0.0  \n",
       "35766              55.0                  0.0  \n",
       "35767            1897.0                  0.0  \n",
       "\n",
       "[35768 rows x 6 columns]"
      ]
     },
     "execution_count": 40,
     "metadata": {},
     "output_type": "execute_result"
    }
   ],
   "source": [
    "X"
   ]
  },
  {
   "cell_type": "code",
   "execution_count": 41,
   "metadata": {},
   "outputs": [
    {
     "data": {
      "text/html": [
       "<div>\n",
       "<style scoped>\n",
       "    .dataframe tbody tr th:only-of-type {\n",
       "        vertical-align: middle;\n",
       "    }\n",
       "\n",
       "    .dataframe tbody tr th {\n",
       "        vertical-align: top;\n",
       "    }\n",
       "\n",
       "    .dataframe thead th {\n",
       "        text-align: right;\n",
       "    }\n",
       "</style>\n",
       "<table border=\"1\" class=\"dataframe\">\n",
       "  <thead>\n",
       "    <tr style=\"text-align: right;\">\n",
       "      <th></th>\n",
       "      <th>video_duration_sec</th>\n",
       "      <th>video_view_count</th>\n",
       "      <th>video_like_count</th>\n",
       "      <th>video_comment_count</th>\n",
       "    </tr>\n",
       "  </thead>\n",
       "  <tbody>\n",
       "    <tr>\n",
       "      <th>0</th>\n",
       "      <td>59.0</td>\n",
       "      <td>343296.0</td>\n",
       "      <td>19425.0</td>\n",
       "      <td>0.0</td>\n",
       "    </tr>\n",
       "    <tr>\n",
       "      <th>1</th>\n",
       "      <td>32.0</td>\n",
       "      <td>140877.0</td>\n",
       "      <td>77355.0</td>\n",
       "      <td>684.0</td>\n",
       "    </tr>\n",
       "    <tr>\n",
       "      <th>2</th>\n",
       "      <td>31.0</td>\n",
       "      <td>902185.0</td>\n",
       "      <td>97690.0</td>\n",
       "      <td>329.0</td>\n",
       "    </tr>\n",
       "    <tr>\n",
       "      <th>3</th>\n",
       "      <td>25.0</td>\n",
       "      <td>437506.0</td>\n",
       "      <td>239954.0</td>\n",
       "      <td>584.0</td>\n",
       "    </tr>\n",
       "    <tr>\n",
       "      <th>4</th>\n",
       "      <td>19.0</td>\n",
       "      <td>56167.0</td>\n",
       "      <td>34987.0</td>\n",
       "      <td>152.0</td>\n",
       "    </tr>\n",
       "    <tr>\n",
       "      <th>...</th>\n",
       "      <td>...</td>\n",
       "      <td>...</td>\n",
       "      <td>...</td>\n",
       "      <td>...</td>\n",
       "    </tr>\n",
       "    <tr>\n",
       "      <th>35763</th>\n",
       "      <td>42.0</td>\n",
       "      <td>993273.0</td>\n",
       "      <td>294351.0</td>\n",
       "      <td>62.0</td>\n",
       "    </tr>\n",
       "    <tr>\n",
       "      <th>35764</th>\n",
       "      <td>55.0</td>\n",
       "      <td>6688.0</td>\n",
       "      <td>2431.0</td>\n",
       "      <td>3.0</td>\n",
       "    </tr>\n",
       "    <tr>\n",
       "      <th>35765</th>\n",
       "      <td>39.0</td>\n",
       "      <td>5009.0</td>\n",
       "      <td>1418.0</td>\n",
       "      <td>0.0</td>\n",
       "    </tr>\n",
       "    <tr>\n",
       "      <th>35766</th>\n",
       "      <td>16.0</td>\n",
       "      <td>921.0</td>\n",
       "      <td>55.0</td>\n",
       "      <td>0.0</td>\n",
       "    </tr>\n",
       "    <tr>\n",
       "      <th>35767</th>\n",
       "      <td>50.0</td>\n",
       "      <td>6478.0</td>\n",
       "      <td>1897.0</td>\n",
       "      <td>0.0</td>\n",
       "    </tr>\n",
       "  </tbody>\n",
       "</table>\n",
       "<p>35768 rows × 4 columns</p>\n",
       "</div>"
      ],
      "text/plain": [
       "       video_duration_sec  video_view_count  video_like_count  \\\n",
       "0                    59.0          343296.0           19425.0   \n",
       "1                    32.0          140877.0           77355.0   \n",
       "2                    31.0          902185.0           97690.0   \n",
       "3                    25.0          437506.0          239954.0   \n",
       "4                    19.0           56167.0           34987.0   \n",
       "...                   ...               ...               ...   \n",
       "35763                42.0          993273.0          294351.0   \n",
       "35764                55.0            6688.0            2431.0   \n",
       "35765                39.0            5009.0            1418.0   \n",
       "35766                16.0             921.0              55.0   \n",
       "35767                50.0            6478.0            1897.0   \n",
       "\n",
       "       video_comment_count  \n",
       "0                      0.0  \n",
       "1                    684.0  \n",
       "2                    329.0  \n",
       "3                    584.0  \n",
       "4                    152.0  \n",
       "...                    ...  \n",
       "35763                 62.0  \n",
       "35764                  3.0  \n",
       "35765                  0.0  \n",
       "35766                  0.0  \n",
       "35767                  0.0  \n",
       "\n",
       "[35768 rows x 4 columns]"
      ]
     },
     "execution_count": 41,
     "metadata": {},
     "output_type": "execute_result"
    }
   ],
   "source": [
    "X = X.drop(columns = ['claim_status', 'author_ban_status'])\n",
    "X"
   ]
  },
  {
   "cell_type": "code",
   "execution_count": 42,
   "metadata": {},
   "outputs": [
    {
     "data": {
      "text/html": [
       "<div>\n",
       "<style scoped>\n",
       "    .dataframe tbody tr th:only-of-type {\n",
       "        vertical-align: middle;\n",
       "    }\n",
       "\n",
       "    .dataframe tbody tr th {\n",
       "        vertical-align: top;\n",
       "    }\n",
       "\n",
       "    .dataframe thead th {\n",
       "        text-align: right;\n",
       "    }\n",
       "</style>\n",
       "<table border=\"1\" class=\"dataframe\">\n",
       "  <thead>\n",
       "    <tr style=\"text-align: right;\">\n",
       "      <th></th>\n",
       "      <th>video_duration_sec</th>\n",
       "      <th>video_view_count</th>\n",
       "      <th>video_like_count</th>\n",
       "      <th>video_comment_count</th>\n",
       "      <th>claim_status_opinion</th>\n",
       "      <th>author_ban_status_banned</th>\n",
       "      <th>author_ban_status_under review</th>\n",
       "    </tr>\n",
       "  </thead>\n",
       "  <tbody>\n",
       "    <tr>\n",
       "      <th>0</th>\n",
       "      <td>59.0</td>\n",
       "      <td>343296.0</td>\n",
       "      <td>19425.0</td>\n",
       "      <td>0.0</td>\n",
       "      <td>0.0</td>\n",
       "      <td>0.0</td>\n",
       "      <td>1.0</td>\n",
       "    </tr>\n",
       "    <tr>\n",
       "      <th>1</th>\n",
       "      <td>32.0</td>\n",
       "      <td>140877.0</td>\n",
       "      <td>77355.0</td>\n",
       "      <td>684.0</td>\n",
       "      <td>0.0</td>\n",
       "      <td>0.0</td>\n",
       "      <td>0.0</td>\n",
       "    </tr>\n",
       "    <tr>\n",
       "      <th>2</th>\n",
       "      <td>31.0</td>\n",
       "      <td>902185.0</td>\n",
       "      <td>97690.0</td>\n",
       "      <td>329.0</td>\n",
       "      <td>0.0</td>\n",
       "      <td>0.0</td>\n",
       "      <td>0.0</td>\n",
       "    </tr>\n",
       "    <tr>\n",
       "      <th>3</th>\n",
       "      <td>25.0</td>\n",
       "      <td>437506.0</td>\n",
       "      <td>239954.0</td>\n",
       "      <td>584.0</td>\n",
       "      <td>0.0</td>\n",
       "      <td>0.0</td>\n",
       "      <td>0.0</td>\n",
       "    </tr>\n",
       "    <tr>\n",
       "      <th>4</th>\n",
       "      <td>19.0</td>\n",
       "      <td>56167.0</td>\n",
       "      <td>34987.0</td>\n",
       "      <td>152.0</td>\n",
       "      <td>0.0</td>\n",
       "      <td>0.0</td>\n",
       "      <td>0.0</td>\n",
       "    </tr>\n",
       "    <tr>\n",
       "      <th>...</th>\n",
       "      <td>...</td>\n",
       "      <td>...</td>\n",
       "      <td>...</td>\n",
       "      <td>...</td>\n",
       "      <td>...</td>\n",
       "      <td>...</td>\n",
       "      <td>...</td>\n",
       "    </tr>\n",
       "    <tr>\n",
       "      <th>35763</th>\n",
       "      <td>42.0</td>\n",
       "      <td>993273.0</td>\n",
       "      <td>294351.0</td>\n",
       "      <td>62.0</td>\n",
       "      <td>0.0</td>\n",
       "      <td>0.0</td>\n",
       "      <td>0.0</td>\n",
       "    </tr>\n",
       "    <tr>\n",
       "      <th>35764</th>\n",
       "      <td>55.0</td>\n",
       "      <td>6688.0</td>\n",
       "      <td>2431.0</td>\n",
       "      <td>3.0</td>\n",
       "      <td>1.0</td>\n",
       "      <td>0.0</td>\n",
       "      <td>0.0</td>\n",
       "    </tr>\n",
       "    <tr>\n",
       "      <th>35765</th>\n",
       "      <td>39.0</td>\n",
       "      <td>5009.0</td>\n",
       "      <td>1418.0</td>\n",
       "      <td>0.0</td>\n",
       "      <td>1.0</td>\n",
       "      <td>0.0</td>\n",
       "      <td>0.0</td>\n",
       "    </tr>\n",
       "    <tr>\n",
       "      <th>35766</th>\n",
       "      <td>16.0</td>\n",
       "      <td>921.0</td>\n",
       "      <td>55.0</td>\n",
       "      <td>0.0</td>\n",
       "      <td>1.0</td>\n",
       "      <td>0.0</td>\n",
       "      <td>0.0</td>\n",
       "    </tr>\n",
       "    <tr>\n",
       "      <th>35767</th>\n",
       "      <td>50.0</td>\n",
       "      <td>6478.0</td>\n",
       "      <td>1897.0</td>\n",
       "      <td>0.0</td>\n",
       "      <td>1.0</td>\n",
       "      <td>0.0</td>\n",
       "      <td>0.0</td>\n",
       "    </tr>\n",
       "  </tbody>\n",
       "</table>\n",
       "<p>35768 rows × 7 columns</p>\n",
       "</div>"
      ],
      "text/plain": [
       "       video_duration_sec  video_view_count  video_like_count  \\\n",
       "0                    59.0          343296.0           19425.0   \n",
       "1                    32.0          140877.0           77355.0   \n",
       "2                    31.0          902185.0           97690.0   \n",
       "3                    25.0          437506.0          239954.0   \n",
       "4                    19.0           56167.0           34987.0   \n",
       "...                   ...               ...               ...   \n",
       "35763                42.0          993273.0          294351.0   \n",
       "35764                55.0            6688.0            2431.0   \n",
       "35765                39.0            5009.0            1418.0   \n",
       "35766                16.0             921.0              55.0   \n",
       "35767                50.0            6478.0            1897.0   \n",
       "\n",
       "       video_comment_count  claim_status_opinion  author_ban_status_banned  \\\n",
       "0                      0.0                   0.0                       0.0   \n",
       "1                    684.0                   0.0                       0.0   \n",
       "2                    329.0                   0.0                       0.0   \n",
       "3                    584.0                   0.0                       0.0   \n",
       "4                    152.0                   0.0                       0.0   \n",
       "...                    ...                   ...                       ...   \n",
       "35763                 62.0                   0.0                       0.0   \n",
       "35764                  3.0                   1.0                       0.0   \n",
       "35765                  0.0                   1.0                       0.0   \n",
       "35766                  0.0                   1.0                       0.0   \n",
       "35767                  0.0                   1.0                       0.0   \n",
       "\n",
       "       author_ban_status_under review  \n",
       "0                                 1.0  \n",
       "1                                 0.0  \n",
       "2                                 0.0  \n",
       "3                                 0.0  \n",
       "4                                 0.0  \n",
       "...                               ...  \n",
       "35763                             0.0  \n",
       "35764                             0.0  \n",
       "35765                             0.0  \n",
       "35766                             0.0  \n",
       "35767                             0.0  \n",
       "\n",
       "[35768 rows x 7 columns]"
      ]
     },
     "execution_count": 42,
     "metadata": {},
     "output_type": "execute_result"
    }
   ],
   "source": [
    "X_final = pd.concat([X.reset_index(drop = True), X_encoded_df], axis = 1)\n",
    "X_final"
   ]
  },
  {
   "cell_type": "code",
   "execution_count": 43,
   "metadata": {},
   "outputs": [
    {
     "data": {
      "text/plain": [
       "(35768,)"
      ]
     },
     "execution_count": 43,
     "metadata": {},
     "output_type": "execute_result"
    }
   ],
   "source": [
    "y.shape"
   ]
  },
  {
   "cell_type": "code",
   "execution_count": 44,
   "metadata": {},
   "outputs": [
    {
     "data": {
      "text/plain": [
       "(35768, 7)"
      ]
     },
     "execution_count": 44,
     "metadata": {},
     "output_type": "execute_result"
    }
   ],
   "source": [
    "X_final.shape"
   ]
  },
  {
   "cell_type": "markdown",
   "metadata": {
    "id": "gPIBz0-HDEqd"
   },
   "source": [
    "### Model Building"
   ]
  },
  {
   "cell_type": "code",
   "execution_count": 45,
   "metadata": {
    "id": "jKgrew0V6o_3"
   },
   "outputs": [],
   "source": [
    "# Split the data into training and testing sets\n",
    "X_train, X_test, y_train, y_test = train_test_split(X_final, y, test_size = 0.25, random_state = 0)"
   ]
  },
  {
   "cell_type": "code",
   "execution_count": 46,
   "metadata": {
    "id": "xgbB1NCtfxcc"
   },
   "outputs": [
    {
     "data": {
      "text/plain": [
       "((26826, 7), (8942, 7), (26826,), (8942,))"
      ]
     },
     "execution_count": 46,
     "metadata": {},
     "output_type": "execute_result"
    }
   ],
   "source": [
    "# Confirming the dimensions of the training and testing sets\n",
    "X_train.shape, X_test.shape, y_train.shape, y_test.shape"
   ]
  },
  {
   "cell_type": "code",
   "execution_count": 47,
   "metadata": {
    "id": "sNcke2SNvZrN"
   },
   "outputs": [],
   "source": [
    "# Construct a logistic regression model and fit it to the training set\n",
    "clf_1 = LogisticRegression(random_state = 0, max_iter = 800).fit(X_train, y_train)"
   ]
  },
  {
   "cell_type": "code",
   "execution_count": 48,
   "metadata": {},
   "outputs": [
    {
     "data": {
      "text/plain": [
       "array([[ 8.39033066e-03, -2.28102186e-06, -1.69572134e-07,\n",
       "         1.13486022e-04,  3.74035235e-04, -1.65969011e-05,\n",
       "        -1.05946962e-06]])"
      ]
     },
     "execution_count": 48,
     "metadata": {},
     "output_type": "execute_result"
    }
   ],
   "source": [
    "clf_1.coef_"
   ]
  },
  {
   "cell_type": "code",
   "execution_count": 49,
   "metadata": {},
   "outputs": [
    {
     "data": {
      "image/png": "[encoded data removed]",
      "text/plain": [
       "<Figure size 600x400 with 1 Axes>"
      ]
     },
     "metadata": {},
     "output_type": "display_data"
    }
   ],
   "source": [
    "plt.figure(figsize = (6,4))\n",
    "sns.regplot(x = 'video_comment_count', y = 'verified_status', data = df_subset1,\n",
    "           logistic = True, ci = None, color = 'teal', scatter_kws = {'alpha': 0.2})\n",
    "plt.xlabel('Video Comment Count', fontsize = 12, labelpad = 15)\n",
    "plt.ylabel('Verification (1:Verified, 0:Not Verified)', fontsize = 12, labelpad = 15)\n",
    "plt.title('Regression Plot', fontweight = 'bold', fontsize = 14, pad = 15)\n",
    "\n",
    "plt.savefig(\"Verification-vs-Video-Comment-Count-Regression-Plot.png\", dpi = 300, bbox_inches = 'tight')\n",
    "plt.show()"
   ]
  },
  {
   "cell_type": "markdown",
   "metadata": {
    "id": "F_l3bkxQdJ3a"
   },
   "source": [
    "### Model Results and Evaluation"
   ]
  },
  {
   "cell_type": "code",
   "execution_count": 50,
   "metadata": {
    "id": "NZQbthy93bWM"
   },
   "outputs": [],
   "source": [
    "# Using the logistic regression model to get predictions on the encoded testing set\n",
    "y_pred = clf_1.predict(X_test)"
   ]
  },
  {
   "cell_type": "code",
   "execution_count": 51,
   "metadata": {
    "id": "tyKjLA_gYUYZ"
   },
   "outputs": [
    {
     "name": "stdout",
     "output_type": "stream",
     "text": [
      "[1. 1. 0. ... 1. 0. 1.]\n"
     ]
    }
   ],
   "source": [
    "# Displaying the predictions on the encoded testing set\n",
    "print(y_pred)"
   ]
  },
  {
   "cell_type": "code",
   "execution_count": 52,
   "metadata": {
    "id": "WbbI5cSfmmHA"
   },
   "outputs": [
    {
     "data": {
      "text/plain": [
       "((26826, 7), (26826,), (8942, 7), (8942,))"
      ]
     },
     "execution_count": 52,
     "metadata": {},
     "output_type": "execute_result"
    }
   ],
   "source": [
    "# Confirming shape of each training and testing set\n",
    "X_train.shape, y_train.shape, X_test.shape, y_test.shape"
   ]
  },
  {
   "cell_type": "markdown",
   "metadata": {
    "id": "IMQltTaQFnwv"
   },
   "source": [
    "### Visualization of Model Results"
   ]
  },
  {
   "cell_type": "code",
   "execution_count": 53,
   "metadata": {
    "id": "ZPgiHdlyZCTf"
   },
   "outputs": [
    {
     "data": {
      "image/png": "[encoded data removed]",
      "text/plain": [
       "<Figure size 640x480 with 2 Axes>"
      ]
     },
     "metadata": {},
     "output_type": "display_data"
    }
   ],
   "source": [
    "# Compute values for confusion matrix\n",
    "cm = metrics.confusion_matrix(y_test, y_pred, labels = clf_1.classes_)\n",
    "\n",
    "display_cm = metrics.ConfusionMatrixDisplay(cm, display_labels = clf_1.classes_)\n",
    "display_cm.plot()\n",
    "plt.show()"
   ]
  },
  {
   "cell_type": "code",
   "execution_count": 54,
   "metadata": {
    "id": "AMxCzRa-bnUe"
   },
   "outputs": [
    {
     "name": "stdout",
     "output_type": "stream",
     "text": [
      "Precision: 0.6078273473989371\n",
      "Recall: 0.8418469774704439\n",
      "Accuracy: 0.6484008051889958\n",
      "F1 Score: 0.7059483726150393\n"
     ]
    }
   ],
   "source": [
    "# Create a classification report\n",
    "print('Precision:', metrics.precision_score(y_test, y_pred)) \n",
    "print('Recall:', metrics.recall_score(y_test, y_pred)) \n",
    "print('Accuracy:', metrics.accuracy_score(y_test, y_pred)) \n",
    "print('F1 Score:', metrics.f1_score(y_test, y_pred))"
   ]
  },
  {
   "cell_type": "code",
   "execution_count": 55,
   "metadata": {},
   "outputs": [
    {
     "name": "stdout",
     "output_type": "stream",
     "text": [
      "              precision    recall  f1-score   support\n",
      "\n",
      "    verified       0.74      0.45      0.56      4459\n",
      "not verified       0.61      0.84      0.71      4483\n",
      "\n",
      "    accuracy                           0.65      8942\n",
      "   macro avg       0.67      0.65      0.63      8942\n",
      "weighted avg       0.67      0.65      0.63      8942\n",
      "\n"
     ]
    }
   ],
   "source": [
    "from sklearn.metrics import classification_report\n",
    "\n",
    "target_labels = ['verified', 'not verified']\n",
    "print(classification_report(y_test, y_pred, target_names = target_labels))"
   ]
  },
  {
   "cell_type": "markdown",
   "metadata": {},
   "source": [
    "**Remarks:**\n",
    "1) The weighted average represents the combined metrics for both groups (verified/not verified) of the target variable.\n",
    "2) The classification report displayed that the logistic regression model had precision of 67% and recall of 65%.\n",
    "3) The model also achieved accuracy of 63%.\n",
    "4) The \"verified\" group had its own precision/recall metrics: precision of 74% and recall of 45%.\n",
    "5) The \"not verified\" group had its own precision of 61% and recall of 84% scores."
   ]
  },
  {
   "cell_type": "markdown",
   "metadata": {
    "id": "IFY_y19EKQoO"
   },
   "source": [
    "### Interpreting Model Coefficients**"
   ]
  },
  {
   "cell_type": "code",
   "execution_count": 56,
   "metadata": {
    "id": "6TmRk8tz4JpG"
   },
   "outputs": [
    {
     "data": {
      "text/html": [
       "<div>\n",
       "<style scoped>\n",
       "    .dataframe tbody tr th:only-of-type {\n",
       "        vertical-align: middle;\n",
       "    }\n",
       "\n",
       "    .dataframe tbody tr th {\n",
       "        vertical-align: top;\n",
       "    }\n",
       "\n",
       "    .dataframe thead th {\n",
       "        text-align: right;\n",
       "    }\n",
       "</style>\n",
       "<table border=\"1\" class=\"dataframe\">\n",
       "  <thead>\n",
       "    <tr style=\"text-align: right;\">\n",
       "      <th></th>\n",
       "      <th>Feature Name</th>\n",
       "      <th>Model Coefficient</th>\n",
       "    </tr>\n",
       "  </thead>\n",
       "  <tbody>\n",
       "    <tr>\n",
       "      <th>0</th>\n",
       "      <td>video_duration_sec</td>\n",
       "      <td>8.390331e-03</td>\n",
       "    </tr>\n",
       "    <tr>\n",
       "      <th>1</th>\n",
       "      <td>video_view_count</td>\n",
       "      <td>-2.281022e-06</td>\n",
       "    </tr>\n",
       "    <tr>\n",
       "      <th>2</th>\n",
       "      <td>video_like_count</td>\n",
       "      <td>-1.695721e-07</td>\n",
       "    </tr>\n",
       "    <tr>\n",
       "      <th>3</th>\n",
       "      <td>video_comment_count</td>\n",
       "      <td>1.134860e-04</td>\n",
       "    </tr>\n",
       "    <tr>\n",
       "      <th>4</th>\n",
       "      <td>claim_status_opinion</td>\n",
       "      <td>3.740352e-04</td>\n",
       "    </tr>\n",
       "    <tr>\n",
       "      <th>5</th>\n",
       "      <td>author_ban_status_banned</td>\n",
       "      <td>-1.659690e-05</td>\n",
       "    </tr>\n",
       "    <tr>\n",
       "      <th>6</th>\n",
       "      <td>author_ban_status_under review</td>\n",
       "      <td>-1.059470e-06</td>\n",
       "    </tr>\n",
       "  </tbody>\n",
       "</table>\n",
       "</div>"
      ],
      "text/plain": [
       "                     Feature Name  Model Coefficient\n",
       "0              video_duration_sec       8.390331e-03\n",
       "1                video_view_count      -2.281022e-06\n",
       "2                video_like_count      -1.695721e-07\n",
       "3             video_comment_count       1.134860e-04\n",
       "4            claim_status_opinion       3.740352e-04\n",
       "5        author_ban_status_banned      -1.659690e-05\n",
       "6  author_ban_status_under review      -1.059470e-06"
      ]
     },
     "execution_count": 56,
     "metadata": {},
     "output_type": "execute_result"
    }
   ],
   "source": [
    "pd.DataFrame(data = {\"Feature Name\":clf_1.feature_names_in_, \"Model Coefficient\":clf_1.coef_[0]})"
   ]
  },
  {
   "cell_type": "markdown",
   "metadata": {
    "id": "BzqJ13WAnt4R"
   },
   "source": [
    "**Conclusion**\n",
    "\n",
    "*In nutshell, a logistic regression model for account's verification status was developed with selected features.*\n",
    "\n",
    "1) The dataset has few strongly correlated features, which might lead to multicollinearity issues when fitting logistic regression model. Therefore,'video_share_count' and 'video_download_count' features were not included in logistic regression model.\n",
    "2) Based on the model, each additional second of the video is associated with 0.009 increase in the log-odds of the user being verified.\n",
    "3) The logistic regression model had mediocre predictive power.\n",
    "4) Based on the estimated model coefficients, longer videos tend to be associated with higher odds of the user being verified.\n",
    "5) Other video features have small estimated coefficients in the model, so their association with verified status seems to be small."
   ]
  }
 ],
 "metadata": {
  "colab": {
   "provenance": []
  },
  "kernelspec": {
   "display_name": "Python 3 (ipykernel)",
   "language": "python",
   "name": "python3"
  },
  "language_info": {
   "codemirror_mode": {
    "name": "ipython",
    "version": 3
   },
   "file_extension": ".py",
   "mimetype": "text/x-python",
   "name": "python",
   "nbconvert_exporter": "python",
   "pygments_lexer": "ipython3",
   "version": "3.11.5"
  }
 },
 "nbformat": 4,
 "nbformat_minor": 4
}
